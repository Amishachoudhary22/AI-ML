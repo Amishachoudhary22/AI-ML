{
  "nbformat": 4,
  "nbformat_minor": 0,
  "metadata": {
    "colab": {
      "provenance": [],
      "authorship_tag": "ABX9TyPFoltYj9aXcHG5XwqO8oHy",
      "include_colab_link": true
    },
    "kernelspec": {
      "name": "python3",
      "display_name": "Python 3"
    },
    "language_info": {
      "name": "python"
    }
  },
  "cells": [
    {
      "cell_type": "markdown",
      "metadata": {
        "id": "view-in-github",
        "colab_type": "text"
      },
      "source": [
        "<a href=\"https://colab.research.google.com/github/Amishachoudhary22/AI-ML/blob/main/breast_cancerdetection.ipynb\" target=\"_parent\"><img src=\"https://colab.research.google.com/assets/colab-badge.svg\" alt=\"Open In Colab\"/></a>"
      ]
    },
    {
      "cell_type": "code",
      "execution_count": 1,
      "metadata": {
        "id": "0J5P0KqhqF-Q"
      },
      "outputs": [],
      "source": [
        "import pandas as pd\n",
        "import numpy as np\n",
        "import tensorflow as tf\n",
        "import matplotlib.pyplot as plt\n",
        "import seaborn as sns"
      ]
    },
    {
      "cell_type": "code",
      "source": [
        "dataset = pd.read_csv('breast-cancer.csv')\n",
        "dataset"
      ],
      "metadata": {
        "colab": {
          "base_uri": "https://localhost:8080/",
          "height": 500
        },
        "id": "ncdpELCTqMUt",
        "outputId": "81d9dadc-bc20-4475-bb64-75488c761d38"
      },
      "execution_count": 3,
      "outputs": [
        {
          "output_type": "execute_result",
          "data": {
            "text/plain": [
              "           id diagnosis  radius_mean  texture_mean  perimeter_mean  area_mean  \\\n",
              "0      842302         M        17.99         10.38          122.80     1001.0   \n",
              "1      842517         M        20.57         17.77          132.90     1326.0   \n",
              "2    84300903         M        19.69         21.25          130.00     1203.0   \n",
              "3    84348301         M        11.42         20.38           77.58      386.1   \n",
              "4    84358402         M        20.29         14.34          135.10     1297.0   \n",
              "..        ...       ...          ...           ...             ...        ...   \n",
              "564    926424         M        21.56         22.39          142.00     1479.0   \n",
              "565    926682         M        20.13         28.25          131.20     1261.0   \n",
              "566    926954         M        16.60         28.08          108.30      858.1   \n",
              "567    927241         M        20.60         29.33          140.10     1265.0   \n",
              "568     92751         B         7.76         24.54           47.92      181.0   \n",
              "\n",
              "     smoothness_mean  compactness_mean  concavity_mean  concave points_mean  \\\n",
              "0            0.11840           0.27760         0.30010              0.14710   \n",
              "1            0.08474           0.07864         0.08690              0.07017   \n",
              "2            0.10960           0.15990         0.19740              0.12790   \n",
              "3            0.14250           0.28390         0.24140              0.10520   \n",
              "4            0.10030           0.13280         0.19800              0.10430   \n",
              "..               ...               ...             ...                  ...   \n",
              "564          0.11100           0.11590         0.24390              0.13890   \n",
              "565          0.09780           0.10340         0.14400              0.09791   \n",
              "566          0.08455           0.10230         0.09251              0.05302   \n",
              "567          0.11780           0.27700         0.35140              0.15200   \n",
              "568          0.05263           0.04362         0.00000              0.00000   \n",
              "\n",
              "     ...  radius_worst  texture_worst  perimeter_worst  area_worst  \\\n",
              "0    ...        25.380          17.33           184.60      2019.0   \n",
              "1    ...        24.990          23.41           158.80      1956.0   \n",
              "2    ...        23.570          25.53           152.50      1709.0   \n",
              "3    ...        14.910          26.50            98.87       567.7   \n",
              "4    ...        22.540          16.67           152.20      1575.0   \n",
              "..   ...           ...            ...              ...         ...   \n",
              "564  ...        25.450          26.40           166.10      2027.0   \n",
              "565  ...        23.690          38.25           155.00      1731.0   \n",
              "566  ...        18.980          34.12           126.70      1124.0   \n",
              "567  ...        25.740          39.42           184.60      1821.0   \n",
              "568  ...         9.456          30.37            59.16       268.6   \n",
              "\n",
              "     smoothness_worst  compactness_worst  concavity_worst  \\\n",
              "0             0.16220            0.66560           0.7119   \n",
              "1             0.12380            0.18660           0.2416   \n",
              "2             0.14440            0.42450           0.4504   \n",
              "3             0.20980            0.86630           0.6869   \n",
              "4             0.13740            0.20500           0.4000   \n",
              "..                ...                ...              ...   \n",
              "564           0.14100            0.21130           0.4107   \n",
              "565           0.11660            0.19220           0.3215   \n",
              "566           0.11390            0.30940           0.3403   \n",
              "567           0.16500            0.86810           0.9387   \n",
              "568           0.08996            0.06444           0.0000   \n",
              "\n",
              "     concave points_worst  symmetry_worst  fractal_dimension_worst  \n",
              "0                  0.2654          0.4601                  0.11890  \n",
              "1                  0.1860          0.2750                  0.08902  \n",
              "2                  0.2430          0.3613                  0.08758  \n",
              "3                  0.2575          0.6638                  0.17300  \n",
              "4                  0.1625          0.2364                  0.07678  \n",
              "..                    ...             ...                      ...  \n",
              "564                0.2216          0.2060                  0.07115  \n",
              "565                0.1628          0.2572                  0.06637  \n",
              "566                0.1418          0.2218                  0.07820  \n",
              "567                0.2650          0.4087                  0.12400  \n",
              "568                0.0000          0.2871                  0.07039  \n",
              "\n",
              "[569 rows x 32 columns]"
            ],
            "text/html": [
              "\n",
              "  <div id=\"df-d275c45d-d450-4f8d-8d4e-b53e2fd35dbb\">\n",
              "    <div class=\"colab-df-container\">\n",
              "      <div>\n",
              "<style scoped>\n",
              "    .dataframe tbody tr th:only-of-type {\n",
              "        vertical-align: middle;\n",
              "    }\n",
              "\n",
              "    .dataframe tbody tr th {\n",
              "        vertical-align: top;\n",
              "    }\n",
              "\n",
              "    .dataframe thead th {\n",
              "        text-align: right;\n",
              "    }\n",
              "</style>\n",
              "<table border=\"1\" class=\"dataframe\">\n",
              "  <thead>\n",
              "    <tr style=\"text-align: right;\">\n",
              "      <th></th>\n",
              "      <th>id</th>\n",
              "      <th>diagnosis</th>\n",
              "      <th>radius_mean</th>\n",
              "      <th>texture_mean</th>\n",
              "      <th>perimeter_mean</th>\n",
              "      <th>area_mean</th>\n",
              "      <th>smoothness_mean</th>\n",
              "      <th>compactness_mean</th>\n",
              "      <th>concavity_mean</th>\n",
              "      <th>concave points_mean</th>\n",
              "      <th>...</th>\n",
              "      <th>radius_worst</th>\n",
              "      <th>texture_worst</th>\n",
              "      <th>perimeter_worst</th>\n",
              "      <th>area_worst</th>\n",
              "      <th>smoothness_worst</th>\n",
              "      <th>compactness_worst</th>\n",
              "      <th>concavity_worst</th>\n",
              "      <th>concave points_worst</th>\n",
              "      <th>symmetry_worst</th>\n",
              "      <th>fractal_dimension_worst</th>\n",
              "    </tr>\n",
              "  </thead>\n",
              "  <tbody>\n",
              "    <tr>\n",
              "      <th>0</th>\n",
              "      <td>842302</td>\n",
              "      <td>M</td>\n",
              "      <td>17.99</td>\n",
              "      <td>10.38</td>\n",
              "      <td>122.80</td>\n",
              "      <td>1001.0</td>\n",
              "      <td>0.11840</td>\n",
              "      <td>0.27760</td>\n",
              "      <td>0.30010</td>\n",
              "      <td>0.14710</td>\n",
              "      <td>...</td>\n",
              "      <td>25.380</td>\n",
              "      <td>17.33</td>\n",
              "      <td>184.60</td>\n",
              "      <td>2019.0</td>\n",
              "      <td>0.16220</td>\n",
              "      <td>0.66560</td>\n",
              "      <td>0.7119</td>\n",
              "      <td>0.2654</td>\n",
              "      <td>0.4601</td>\n",
              "      <td>0.11890</td>\n",
              "    </tr>\n",
              "    <tr>\n",
              "      <th>1</th>\n",
              "      <td>842517</td>\n",
              "      <td>M</td>\n",
              "      <td>20.57</td>\n",
              "      <td>17.77</td>\n",
              "      <td>132.90</td>\n",
              "      <td>1326.0</td>\n",
              "      <td>0.08474</td>\n",
              "      <td>0.07864</td>\n",
              "      <td>0.08690</td>\n",
              "      <td>0.07017</td>\n",
              "      <td>...</td>\n",
              "      <td>24.990</td>\n",
              "      <td>23.41</td>\n",
              "      <td>158.80</td>\n",
              "      <td>1956.0</td>\n",
              "      <td>0.12380</td>\n",
              "      <td>0.18660</td>\n",
              "      <td>0.2416</td>\n",
              "      <td>0.1860</td>\n",
              "      <td>0.2750</td>\n",
              "      <td>0.08902</td>\n",
              "    </tr>\n",
              "    <tr>\n",
              "      <th>2</th>\n",
              "      <td>84300903</td>\n",
              "      <td>M</td>\n",
              "      <td>19.69</td>\n",
              "      <td>21.25</td>\n",
              "      <td>130.00</td>\n",
              "      <td>1203.0</td>\n",
              "      <td>0.10960</td>\n",
              "      <td>0.15990</td>\n",
              "      <td>0.19740</td>\n",
              "      <td>0.12790</td>\n",
              "      <td>...</td>\n",
              "      <td>23.570</td>\n",
              "      <td>25.53</td>\n",
              "      <td>152.50</td>\n",
              "      <td>1709.0</td>\n",
              "      <td>0.14440</td>\n",
              "      <td>0.42450</td>\n",
              "      <td>0.4504</td>\n",
              "      <td>0.2430</td>\n",
              "      <td>0.3613</td>\n",
              "      <td>0.08758</td>\n",
              "    </tr>\n",
              "    <tr>\n",
              "      <th>3</th>\n",
              "      <td>84348301</td>\n",
              "      <td>M</td>\n",
              "      <td>11.42</td>\n",
              "      <td>20.38</td>\n",
              "      <td>77.58</td>\n",
              "      <td>386.1</td>\n",
              "      <td>0.14250</td>\n",
              "      <td>0.28390</td>\n",
              "      <td>0.24140</td>\n",
              "      <td>0.10520</td>\n",
              "      <td>...</td>\n",
              "      <td>14.910</td>\n",
              "      <td>26.50</td>\n",
              "      <td>98.87</td>\n",
              "      <td>567.7</td>\n",
              "      <td>0.20980</td>\n",
              "      <td>0.86630</td>\n",
              "      <td>0.6869</td>\n",
              "      <td>0.2575</td>\n",
              "      <td>0.6638</td>\n",
              "      <td>0.17300</td>\n",
              "    </tr>\n",
              "    <tr>\n",
              "      <th>4</th>\n",
              "      <td>84358402</td>\n",
              "      <td>M</td>\n",
              "      <td>20.29</td>\n",
              "      <td>14.34</td>\n",
              "      <td>135.10</td>\n",
              "      <td>1297.0</td>\n",
              "      <td>0.10030</td>\n",
              "      <td>0.13280</td>\n",
              "      <td>0.19800</td>\n",
              "      <td>0.10430</td>\n",
              "      <td>...</td>\n",
              "      <td>22.540</td>\n",
              "      <td>16.67</td>\n",
              "      <td>152.20</td>\n",
              "      <td>1575.0</td>\n",
              "      <td>0.13740</td>\n",
              "      <td>0.20500</td>\n",
              "      <td>0.4000</td>\n",
              "      <td>0.1625</td>\n",
              "      <td>0.2364</td>\n",
              "      <td>0.07678</td>\n",
              "    </tr>\n",
              "    <tr>\n",
              "      <th>...</th>\n",
              "      <td>...</td>\n",
              "      <td>...</td>\n",
              "      <td>...</td>\n",
              "      <td>...</td>\n",
              "      <td>...</td>\n",
              "      <td>...</td>\n",
              "      <td>...</td>\n",
              "      <td>...</td>\n",
              "      <td>...</td>\n",
              "      <td>...</td>\n",
              "      <td>...</td>\n",
              "      <td>...</td>\n",
              "      <td>...</td>\n",
              "      <td>...</td>\n",
              "      <td>...</td>\n",
              "      <td>...</td>\n",
              "      <td>...</td>\n",
              "      <td>...</td>\n",
              "      <td>...</td>\n",
              "      <td>...</td>\n",
              "      <td>...</td>\n",
              "    </tr>\n",
              "    <tr>\n",
              "      <th>564</th>\n",
              "      <td>926424</td>\n",
              "      <td>M</td>\n",
              "      <td>21.56</td>\n",
              "      <td>22.39</td>\n",
              "      <td>142.00</td>\n",
              "      <td>1479.0</td>\n",
              "      <td>0.11100</td>\n",
              "      <td>0.11590</td>\n",
              "      <td>0.24390</td>\n",
              "      <td>0.13890</td>\n",
              "      <td>...</td>\n",
              "      <td>25.450</td>\n",
              "      <td>26.40</td>\n",
              "      <td>166.10</td>\n",
              "      <td>2027.0</td>\n",
              "      <td>0.14100</td>\n",
              "      <td>0.21130</td>\n",
              "      <td>0.4107</td>\n",
              "      <td>0.2216</td>\n",
              "      <td>0.2060</td>\n",
              "      <td>0.07115</td>\n",
              "    </tr>\n",
              "    <tr>\n",
              "      <th>565</th>\n",
              "      <td>926682</td>\n",
              "      <td>M</td>\n",
              "      <td>20.13</td>\n",
              "      <td>28.25</td>\n",
              "      <td>131.20</td>\n",
              "      <td>1261.0</td>\n",
              "      <td>0.09780</td>\n",
              "      <td>0.10340</td>\n",
              "      <td>0.14400</td>\n",
              "      <td>0.09791</td>\n",
              "      <td>...</td>\n",
              "      <td>23.690</td>\n",
              "      <td>38.25</td>\n",
              "      <td>155.00</td>\n",
              "      <td>1731.0</td>\n",
              "      <td>0.11660</td>\n",
              "      <td>0.19220</td>\n",
              "      <td>0.3215</td>\n",
              "      <td>0.1628</td>\n",
              "      <td>0.2572</td>\n",
              "      <td>0.06637</td>\n",
              "    </tr>\n",
              "    <tr>\n",
              "      <th>566</th>\n",
              "      <td>926954</td>\n",
              "      <td>M</td>\n",
              "      <td>16.60</td>\n",
              "      <td>28.08</td>\n",
              "      <td>108.30</td>\n",
              "      <td>858.1</td>\n",
              "      <td>0.08455</td>\n",
              "      <td>0.10230</td>\n",
              "      <td>0.09251</td>\n",
              "      <td>0.05302</td>\n",
              "      <td>...</td>\n",
              "      <td>18.980</td>\n",
              "      <td>34.12</td>\n",
              "      <td>126.70</td>\n",
              "      <td>1124.0</td>\n",
              "      <td>0.11390</td>\n",
              "      <td>0.30940</td>\n",
              "      <td>0.3403</td>\n",
              "      <td>0.1418</td>\n",
              "      <td>0.2218</td>\n",
              "      <td>0.07820</td>\n",
              "    </tr>\n",
              "    <tr>\n",
              "      <th>567</th>\n",
              "      <td>927241</td>\n",
              "      <td>M</td>\n",
              "      <td>20.60</td>\n",
              "      <td>29.33</td>\n",
              "      <td>140.10</td>\n",
              "      <td>1265.0</td>\n",
              "      <td>0.11780</td>\n",
              "      <td>0.27700</td>\n",
              "      <td>0.35140</td>\n",
              "      <td>0.15200</td>\n",
              "      <td>...</td>\n",
              "      <td>25.740</td>\n",
              "      <td>39.42</td>\n",
              "      <td>184.60</td>\n",
              "      <td>1821.0</td>\n",
              "      <td>0.16500</td>\n",
              "      <td>0.86810</td>\n",
              "      <td>0.9387</td>\n",
              "      <td>0.2650</td>\n",
              "      <td>0.4087</td>\n",
              "      <td>0.12400</td>\n",
              "    </tr>\n",
              "    <tr>\n",
              "      <th>568</th>\n",
              "      <td>92751</td>\n",
              "      <td>B</td>\n",
              "      <td>7.76</td>\n",
              "      <td>24.54</td>\n",
              "      <td>47.92</td>\n",
              "      <td>181.0</td>\n",
              "      <td>0.05263</td>\n",
              "      <td>0.04362</td>\n",
              "      <td>0.00000</td>\n",
              "      <td>0.00000</td>\n",
              "      <td>...</td>\n",
              "      <td>9.456</td>\n",
              "      <td>30.37</td>\n",
              "      <td>59.16</td>\n",
              "      <td>268.6</td>\n",
              "      <td>0.08996</td>\n",
              "      <td>0.06444</td>\n",
              "      <td>0.0000</td>\n",
              "      <td>0.0000</td>\n",
              "      <td>0.2871</td>\n",
              "      <td>0.07039</td>\n",
              "    </tr>\n",
              "  </tbody>\n",
              "</table>\n",
              "<p>569 rows × 32 columns</p>\n",
              "</div>\n",
              "      <button class=\"colab-df-convert\" onclick=\"convertToInteractive('df-d275c45d-d450-4f8d-8d4e-b53e2fd35dbb')\"\n",
              "              title=\"Convert this dataframe to an interactive table.\"\n",
              "              style=\"display:none;\">\n",
              "        \n",
              "  <svg xmlns=\"http://www.w3.org/2000/svg\" height=\"24px\"viewBox=\"0 0 24 24\"\n",
              "       width=\"24px\">\n",
              "    <path d=\"M0 0h24v24H0V0z\" fill=\"none\"/>\n",
              "    <path d=\"M18.56 5.44l.94 2.06.94-2.06 2.06-.94-2.06-.94-.94-2.06-.94 2.06-2.06.94zm-11 1L8.5 8.5l.94-2.06 2.06-.94-2.06-.94L8.5 2.5l-.94 2.06-2.06.94zm10 10l.94 2.06.94-2.06 2.06-.94-2.06-.94-.94-2.06-.94 2.06-2.06.94z\"/><path d=\"M17.41 7.96l-1.37-1.37c-.4-.4-.92-.59-1.43-.59-.52 0-1.04.2-1.43.59L10.3 9.45l-7.72 7.72c-.78.78-.78 2.05 0 2.83L4 21.41c.39.39.9.59 1.41.59.51 0 1.02-.2 1.41-.59l7.78-7.78 2.81-2.81c.8-.78.8-2.07 0-2.86zM5.41 20L4 18.59l7.72-7.72 1.47 1.35L5.41 20z\"/>\n",
              "  </svg>\n",
              "      </button>\n",
              "      \n",
              "  <style>\n",
              "    .colab-df-container {\n",
              "      display:flex;\n",
              "      flex-wrap:wrap;\n",
              "      gap: 12px;\n",
              "    }\n",
              "\n",
              "    .colab-df-convert {\n",
              "      background-color: #E8F0FE;\n",
              "      border: none;\n",
              "      border-radius: 50%;\n",
              "      cursor: pointer;\n",
              "      display: none;\n",
              "      fill: #1967D2;\n",
              "      height: 32px;\n",
              "      padding: 0 0 0 0;\n",
              "      width: 32px;\n",
              "    }\n",
              "\n",
              "    .colab-df-convert:hover {\n",
              "      background-color: #E2EBFA;\n",
              "      box-shadow: 0px 1px 2px rgba(60, 64, 67, 0.3), 0px 1px 3px 1px rgba(60, 64, 67, 0.15);\n",
              "      fill: #174EA6;\n",
              "    }\n",
              "\n",
              "    [theme=dark] .colab-df-convert {\n",
              "      background-color: #3B4455;\n",
              "      fill: #D2E3FC;\n",
              "    }\n",
              "\n",
              "    [theme=dark] .colab-df-convert:hover {\n",
              "      background-color: #434B5C;\n",
              "      box-shadow: 0px 1px 3px 1px rgba(0, 0, 0, 0.15);\n",
              "      filter: drop-shadow(0px 1px 2px rgba(0, 0, 0, 0.3));\n",
              "      fill: #FFFFFF;\n",
              "    }\n",
              "  </style>\n",
              "\n",
              "      <script>\n",
              "        const buttonEl =\n",
              "          document.querySelector('#df-d275c45d-d450-4f8d-8d4e-b53e2fd35dbb button.colab-df-convert');\n",
              "        buttonEl.style.display =\n",
              "          google.colab.kernel.accessAllowed ? 'block' : 'none';\n",
              "\n",
              "        async function convertToInteractive(key) {\n",
              "          const element = document.querySelector('#df-d275c45d-d450-4f8d-8d4e-b53e2fd35dbb');\n",
              "          const dataTable =\n",
              "            await google.colab.kernel.invokeFunction('convertToInteractive',\n",
              "                                                     [key], {});\n",
              "          if (!dataTable) return;\n",
              "\n",
              "          const docLinkHtml = 'Like what you see? Visit the ' +\n",
              "            '<a target=\"_blank\" href=https://colab.research.google.com/notebooks/data_table.ipynb>data table notebook</a>'\n",
              "            + ' to learn more about interactive tables.';\n",
              "          element.innerHTML = '';\n",
              "          dataTable['output_type'] = 'display_data';\n",
              "          await google.colab.output.renderOutput(dataTable, element);\n",
              "          const docLink = document.createElement('div');\n",
              "          docLink.innerHTML = docLinkHtml;\n",
              "          element.appendChild(docLink);\n",
              "        }\n",
              "      </script>\n",
              "    </div>\n",
              "  </div>\n",
              "  "
            ]
          },
          "metadata": {},
          "execution_count": 3
        }
      ]
    },
    {
      "cell_type": "code",
      "source": [
        "dataset['diagnosis'].unique()"
      ],
      "metadata": {
        "colab": {
          "base_uri": "https://localhost:8080/"
        },
        "id": "uoQtv5CHqMW-",
        "outputId": "78564151-62d9-4e02-ea3a-c096d29d6cb8"
      },
      "execution_count": 4,
      "outputs": [
        {
          "output_type": "execute_result",
          "data": {
            "text/plain": [
              "array(['M', 'B'], dtype=object)"
            ]
          },
          "metadata": {},
          "execution_count": 4
        }
      ]
    },
    {
      "cell_type": "code",
      "source": [
        "#M- malignant (Dangerous) (1)\n",
        "#B- benign (Not Dangerous) (0)"
      ],
      "metadata": {
        "id": "yX9T0f77qMYy"
      },
      "execution_count": 6,
      "outputs": []
    },
    {
      "cell_type": "code",
      "source": [
        "del dataset['id']"
      ],
      "metadata": {
        "id": "06_XFdydqMbd"
      },
      "execution_count": 5,
      "outputs": []
    },
    {
      "cell_type": "code",
      "source": [
        "dataset.info()"
      ],
      "metadata": {
        "colab": {
          "base_uri": "https://localhost:8080/"
        },
        "id": "m0zZxTIRqMdy",
        "outputId": "58913aed-ad2e-4f99-9d1e-7e70dc4fc1b2"
      },
      "execution_count": 7,
      "outputs": [
        {
          "output_type": "stream",
          "name": "stdout",
          "text": [
            "<class 'pandas.core.frame.DataFrame'>\n",
            "RangeIndex: 569 entries, 0 to 568\n",
            "Data columns (total 31 columns):\n",
            " #   Column                   Non-Null Count  Dtype  \n",
            "---  ------                   --------------  -----  \n",
            " 0   diagnosis                569 non-null    object \n",
            " 1   radius_mean              569 non-null    float64\n",
            " 2   texture_mean             569 non-null    float64\n",
            " 3   perimeter_mean           569 non-null    float64\n",
            " 4   area_mean                569 non-null    float64\n",
            " 5   smoothness_mean          569 non-null    float64\n",
            " 6   compactness_mean         569 non-null    float64\n",
            " 7   concavity_mean           569 non-null    float64\n",
            " 8   concave points_mean      569 non-null    float64\n",
            " 9   symmetry_mean            569 non-null    float64\n",
            " 10  fractal_dimension_mean   569 non-null    float64\n",
            " 11  radius_se                569 non-null    float64\n",
            " 12  texture_se               569 non-null    float64\n",
            " 13  perimeter_se             569 non-null    float64\n",
            " 14  area_se                  569 non-null    float64\n",
            " 15  smoothness_se            569 non-null    float64\n",
            " 16  compactness_se           569 non-null    float64\n",
            " 17  concavity_se             569 non-null    float64\n",
            " 18  concave points_se        569 non-null    float64\n",
            " 19  symmetry_se              569 non-null    float64\n",
            " 20  fractal_dimension_se     569 non-null    float64\n",
            " 21  radius_worst             569 non-null    float64\n",
            " 22  texture_worst            569 non-null    float64\n",
            " 23  perimeter_worst          569 non-null    float64\n",
            " 24  area_worst               569 non-null    float64\n",
            " 25  smoothness_worst         569 non-null    float64\n",
            " 26  compactness_worst        569 non-null    float64\n",
            " 27  concavity_worst          569 non-null    float64\n",
            " 28  concave points_worst     569 non-null    float64\n",
            " 29  symmetry_worst           569 non-null    float64\n",
            " 30  fractal_dimension_worst  569 non-null    float64\n",
            "dtypes: float64(30), object(1)\n",
            "memory usage: 137.9+ KB\n"
          ]
        }
      ]
    },
    {
      "cell_type": "code",
      "source": [
        "data=dataset[[col for col in dataset.columns if col!='diagnosis']+['diagnosis']]\n",
        "data"
      ],
      "metadata": {
        "colab": {
          "base_uri": "https://localhost:8080/",
          "height": 500
        },
        "id": "gFeSq8DIqMgW",
        "outputId": "76acfc75-b795-43ca-d0aa-3b374987506b"
      },
      "execution_count": 8,
      "outputs": [
        {
          "output_type": "execute_result",
          "data": {
            "text/plain": [
              "     radius_mean  texture_mean  perimeter_mean  area_mean  smoothness_mean  \\\n",
              "0          17.99         10.38          122.80     1001.0          0.11840   \n",
              "1          20.57         17.77          132.90     1326.0          0.08474   \n",
              "2          19.69         21.25          130.00     1203.0          0.10960   \n",
              "3          11.42         20.38           77.58      386.1          0.14250   \n",
              "4          20.29         14.34          135.10     1297.0          0.10030   \n",
              "..           ...           ...             ...        ...              ...   \n",
              "564        21.56         22.39          142.00     1479.0          0.11100   \n",
              "565        20.13         28.25          131.20     1261.0          0.09780   \n",
              "566        16.60         28.08          108.30      858.1          0.08455   \n",
              "567        20.60         29.33          140.10     1265.0          0.11780   \n",
              "568         7.76         24.54           47.92      181.0          0.05263   \n",
              "\n",
              "     compactness_mean  concavity_mean  concave points_mean  symmetry_mean  \\\n",
              "0             0.27760         0.30010              0.14710         0.2419   \n",
              "1             0.07864         0.08690              0.07017         0.1812   \n",
              "2             0.15990         0.19740              0.12790         0.2069   \n",
              "3             0.28390         0.24140              0.10520         0.2597   \n",
              "4             0.13280         0.19800              0.10430         0.1809   \n",
              "..                ...             ...                  ...            ...   \n",
              "564           0.11590         0.24390              0.13890         0.1726   \n",
              "565           0.10340         0.14400              0.09791         0.1752   \n",
              "566           0.10230         0.09251              0.05302         0.1590   \n",
              "567           0.27700         0.35140              0.15200         0.2397   \n",
              "568           0.04362         0.00000              0.00000         0.1587   \n",
              "\n",
              "     fractal_dimension_mean  ...  texture_worst  perimeter_worst  area_worst  \\\n",
              "0                   0.07871  ...          17.33           184.60      2019.0   \n",
              "1                   0.05667  ...          23.41           158.80      1956.0   \n",
              "2                   0.05999  ...          25.53           152.50      1709.0   \n",
              "3                   0.09744  ...          26.50            98.87       567.7   \n",
              "4                   0.05883  ...          16.67           152.20      1575.0   \n",
              "..                      ...  ...            ...              ...         ...   \n",
              "564                 0.05623  ...          26.40           166.10      2027.0   \n",
              "565                 0.05533  ...          38.25           155.00      1731.0   \n",
              "566                 0.05648  ...          34.12           126.70      1124.0   \n",
              "567                 0.07016  ...          39.42           184.60      1821.0   \n",
              "568                 0.05884  ...          30.37            59.16       268.6   \n",
              "\n",
              "     smoothness_worst  compactness_worst  concavity_worst  \\\n",
              "0             0.16220            0.66560           0.7119   \n",
              "1             0.12380            0.18660           0.2416   \n",
              "2             0.14440            0.42450           0.4504   \n",
              "3             0.20980            0.86630           0.6869   \n",
              "4             0.13740            0.20500           0.4000   \n",
              "..                ...                ...              ...   \n",
              "564           0.14100            0.21130           0.4107   \n",
              "565           0.11660            0.19220           0.3215   \n",
              "566           0.11390            0.30940           0.3403   \n",
              "567           0.16500            0.86810           0.9387   \n",
              "568           0.08996            0.06444           0.0000   \n",
              "\n",
              "     concave points_worst  symmetry_worst  fractal_dimension_worst  diagnosis  \n",
              "0                  0.2654          0.4601                  0.11890          M  \n",
              "1                  0.1860          0.2750                  0.08902          M  \n",
              "2                  0.2430          0.3613                  0.08758          M  \n",
              "3                  0.2575          0.6638                  0.17300          M  \n",
              "4                  0.1625          0.2364                  0.07678          M  \n",
              "..                    ...             ...                      ...        ...  \n",
              "564                0.2216          0.2060                  0.07115          M  \n",
              "565                0.1628          0.2572                  0.06637          M  \n",
              "566                0.1418          0.2218                  0.07820          M  \n",
              "567                0.2650          0.4087                  0.12400          M  \n",
              "568                0.0000          0.2871                  0.07039          B  \n",
              "\n",
              "[569 rows x 31 columns]"
            ],
            "text/html": [
              "\n",
              "  <div id=\"df-ab97b509-715d-474a-b6b0-60a06577187c\">\n",
              "    <div class=\"colab-df-container\">\n",
              "      <div>\n",
              "<style scoped>\n",
              "    .dataframe tbody tr th:only-of-type {\n",
              "        vertical-align: middle;\n",
              "    }\n",
              "\n",
              "    .dataframe tbody tr th {\n",
              "        vertical-align: top;\n",
              "    }\n",
              "\n",
              "    .dataframe thead th {\n",
              "        text-align: right;\n",
              "    }\n",
              "</style>\n",
              "<table border=\"1\" class=\"dataframe\">\n",
              "  <thead>\n",
              "    <tr style=\"text-align: right;\">\n",
              "      <th></th>\n",
              "      <th>radius_mean</th>\n",
              "      <th>texture_mean</th>\n",
              "      <th>perimeter_mean</th>\n",
              "      <th>area_mean</th>\n",
              "      <th>smoothness_mean</th>\n",
              "      <th>compactness_mean</th>\n",
              "      <th>concavity_mean</th>\n",
              "      <th>concave points_mean</th>\n",
              "      <th>symmetry_mean</th>\n",
              "      <th>fractal_dimension_mean</th>\n",
              "      <th>...</th>\n",
              "      <th>texture_worst</th>\n",
              "      <th>perimeter_worst</th>\n",
              "      <th>area_worst</th>\n",
              "      <th>smoothness_worst</th>\n",
              "      <th>compactness_worst</th>\n",
              "      <th>concavity_worst</th>\n",
              "      <th>concave points_worst</th>\n",
              "      <th>symmetry_worst</th>\n",
              "      <th>fractal_dimension_worst</th>\n",
              "      <th>diagnosis</th>\n",
              "    </tr>\n",
              "  </thead>\n",
              "  <tbody>\n",
              "    <tr>\n",
              "      <th>0</th>\n",
              "      <td>17.99</td>\n",
              "      <td>10.38</td>\n",
              "      <td>122.80</td>\n",
              "      <td>1001.0</td>\n",
              "      <td>0.11840</td>\n",
              "      <td>0.27760</td>\n",
              "      <td>0.30010</td>\n",
              "      <td>0.14710</td>\n",
              "      <td>0.2419</td>\n",
              "      <td>0.07871</td>\n",
              "      <td>...</td>\n",
              "      <td>17.33</td>\n",
              "      <td>184.60</td>\n",
              "      <td>2019.0</td>\n",
              "      <td>0.16220</td>\n",
              "      <td>0.66560</td>\n",
              "      <td>0.7119</td>\n",
              "      <td>0.2654</td>\n",
              "      <td>0.4601</td>\n",
              "      <td>0.11890</td>\n",
              "      <td>M</td>\n",
              "    </tr>\n",
              "    <tr>\n",
              "      <th>1</th>\n",
              "      <td>20.57</td>\n",
              "      <td>17.77</td>\n",
              "      <td>132.90</td>\n",
              "      <td>1326.0</td>\n",
              "      <td>0.08474</td>\n",
              "      <td>0.07864</td>\n",
              "      <td>0.08690</td>\n",
              "      <td>0.07017</td>\n",
              "      <td>0.1812</td>\n",
              "      <td>0.05667</td>\n",
              "      <td>...</td>\n",
              "      <td>23.41</td>\n",
              "      <td>158.80</td>\n",
              "      <td>1956.0</td>\n",
              "      <td>0.12380</td>\n",
              "      <td>0.18660</td>\n",
              "      <td>0.2416</td>\n",
              "      <td>0.1860</td>\n",
              "      <td>0.2750</td>\n",
              "      <td>0.08902</td>\n",
              "      <td>M</td>\n",
              "    </tr>\n",
              "    <tr>\n",
              "      <th>2</th>\n",
              "      <td>19.69</td>\n",
              "      <td>21.25</td>\n",
              "      <td>130.00</td>\n",
              "      <td>1203.0</td>\n",
              "      <td>0.10960</td>\n",
              "      <td>0.15990</td>\n",
              "      <td>0.19740</td>\n",
              "      <td>0.12790</td>\n",
              "      <td>0.2069</td>\n",
              "      <td>0.05999</td>\n",
              "      <td>...</td>\n",
              "      <td>25.53</td>\n",
              "      <td>152.50</td>\n",
              "      <td>1709.0</td>\n",
              "      <td>0.14440</td>\n",
              "      <td>0.42450</td>\n",
              "      <td>0.4504</td>\n",
              "      <td>0.2430</td>\n",
              "      <td>0.3613</td>\n",
              "      <td>0.08758</td>\n",
              "      <td>M</td>\n",
              "    </tr>\n",
              "    <tr>\n",
              "      <th>3</th>\n",
              "      <td>11.42</td>\n",
              "      <td>20.38</td>\n",
              "      <td>77.58</td>\n",
              "      <td>386.1</td>\n",
              "      <td>0.14250</td>\n",
              "      <td>0.28390</td>\n",
              "      <td>0.24140</td>\n",
              "      <td>0.10520</td>\n",
              "      <td>0.2597</td>\n",
              "      <td>0.09744</td>\n",
              "      <td>...</td>\n",
              "      <td>26.50</td>\n",
              "      <td>98.87</td>\n",
              "      <td>567.7</td>\n",
              "      <td>0.20980</td>\n",
              "      <td>0.86630</td>\n",
              "      <td>0.6869</td>\n",
              "      <td>0.2575</td>\n",
              "      <td>0.6638</td>\n",
              "      <td>0.17300</td>\n",
              "      <td>M</td>\n",
              "    </tr>\n",
              "    <tr>\n",
              "      <th>4</th>\n",
              "      <td>20.29</td>\n",
              "      <td>14.34</td>\n",
              "      <td>135.10</td>\n",
              "      <td>1297.0</td>\n",
              "      <td>0.10030</td>\n",
              "      <td>0.13280</td>\n",
              "      <td>0.19800</td>\n",
              "      <td>0.10430</td>\n",
              "      <td>0.1809</td>\n",
              "      <td>0.05883</td>\n",
              "      <td>...</td>\n",
              "      <td>16.67</td>\n",
              "      <td>152.20</td>\n",
              "      <td>1575.0</td>\n",
              "      <td>0.13740</td>\n",
              "      <td>0.20500</td>\n",
              "      <td>0.4000</td>\n",
              "      <td>0.1625</td>\n",
              "      <td>0.2364</td>\n",
              "      <td>0.07678</td>\n",
              "      <td>M</td>\n",
              "    </tr>\n",
              "    <tr>\n",
              "      <th>...</th>\n",
              "      <td>...</td>\n",
              "      <td>...</td>\n",
              "      <td>...</td>\n",
              "      <td>...</td>\n",
              "      <td>...</td>\n",
              "      <td>...</td>\n",
              "      <td>...</td>\n",
              "      <td>...</td>\n",
              "      <td>...</td>\n",
              "      <td>...</td>\n",
              "      <td>...</td>\n",
              "      <td>...</td>\n",
              "      <td>...</td>\n",
              "      <td>...</td>\n",
              "      <td>...</td>\n",
              "      <td>...</td>\n",
              "      <td>...</td>\n",
              "      <td>...</td>\n",
              "      <td>...</td>\n",
              "      <td>...</td>\n",
              "      <td>...</td>\n",
              "    </tr>\n",
              "    <tr>\n",
              "      <th>564</th>\n",
              "      <td>21.56</td>\n",
              "      <td>22.39</td>\n",
              "      <td>142.00</td>\n",
              "      <td>1479.0</td>\n",
              "      <td>0.11100</td>\n",
              "      <td>0.11590</td>\n",
              "      <td>0.24390</td>\n",
              "      <td>0.13890</td>\n",
              "      <td>0.1726</td>\n",
              "      <td>0.05623</td>\n",
              "      <td>...</td>\n",
              "      <td>26.40</td>\n",
              "      <td>166.10</td>\n",
              "      <td>2027.0</td>\n",
              "      <td>0.14100</td>\n",
              "      <td>0.21130</td>\n",
              "      <td>0.4107</td>\n",
              "      <td>0.2216</td>\n",
              "      <td>0.2060</td>\n",
              "      <td>0.07115</td>\n",
              "      <td>M</td>\n",
              "    </tr>\n",
              "    <tr>\n",
              "      <th>565</th>\n",
              "      <td>20.13</td>\n",
              "      <td>28.25</td>\n",
              "      <td>131.20</td>\n",
              "      <td>1261.0</td>\n",
              "      <td>0.09780</td>\n",
              "      <td>0.10340</td>\n",
              "      <td>0.14400</td>\n",
              "      <td>0.09791</td>\n",
              "      <td>0.1752</td>\n",
              "      <td>0.05533</td>\n",
              "      <td>...</td>\n",
              "      <td>38.25</td>\n",
              "      <td>155.00</td>\n",
              "      <td>1731.0</td>\n",
              "      <td>0.11660</td>\n",
              "      <td>0.19220</td>\n",
              "      <td>0.3215</td>\n",
              "      <td>0.1628</td>\n",
              "      <td>0.2572</td>\n",
              "      <td>0.06637</td>\n",
              "      <td>M</td>\n",
              "    </tr>\n",
              "    <tr>\n",
              "      <th>566</th>\n",
              "      <td>16.60</td>\n",
              "      <td>28.08</td>\n",
              "      <td>108.30</td>\n",
              "      <td>858.1</td>\n",
              "      <td>0.08455</td>\n",
              "      <td>0.10230</td>\n",
              "      <td>0.09251</td>\n",
              "      <td>0.05302</td>\n",
              "      <td>0.1590</td>\n",
              "      <td>0.05648</td>\n",
              "      <td>...</td>\n",
              "      <td>34.12</td>\n",
              "      <td>126.70</td>\n",
              "      <td>1124.0</td>\n",
              "      <td>0.11390</td>\n",
              "      <td>0.30940</td>\n",
              "      <td>0.3403</td>\n",
              "      <td>0.1418</td>\n",
              "      <td>0.2218</td>\n",
              "      <td>0.07820</td>\n",
              "      <td>M</td>\n",
              "    </tr>\n",
              "    <tr>\n",
              "      <th>567</th>\n",
              "      <td>20.60</td>\n",
              "      <td>29.33</td>\n",
              "      <td>140.10</td>\n",
              "      <td>1265.0</td>\n",
              "      <td>0.11780</td>\n",
              "      <td>0.27700</td>\n",
              "      <td>0.35140</td>\n",
              "      <td>0.15200</td>\n",
              "      <td>0.2397</td>\n",
              "      <td>0.07016</td>\n",
              "      <td>...</td>\n",
              "      <td>39.42</td>\n",
              "      <td>184.60</td>\n",
              "      <td>1821.0</td>\n",
              "      <td>0.16500</td>\n",
              "      <td>0.86810</td>\n",
              "      <td>0.9387</td>\n",
              "      <td>0.2650</td>\n",
              "      <td>0.4087</td>\n",
              "      <td>0.12400</td>\n",
              "      <td>M</td>\n",
              "    </tr>\n",
              "    <tr>\n",
              "      <th>568</th>\n",
              "      <td>7.76</td>\n",
              "      <td>24.54</td>\n",
              "      <td>47.92</td>\n",
              "      <td>181.0</td>\n",
              "      <td>0.05263</td>\n",
              "      <td>0.04362</td>\n",
              "      <td>0.00000</td>\n",
              "      <td>0.00000</td>\n",
              "      <td>0.1587</td>\n",
              "      <td>0.05884</td>\n",
              "      <td>...</td>\n",
              "      <td>30.37</td>\n",
              "      <td>59.16</td>\n",
              "      <td>268.6</td>\n",
              "      <td>0.08996</td>\n",
              "      <td>0.06444</td>\n",
              "      <td>0.0000</td>\n",
              "      <td>0.0000</td>\n",
              "      <td>0.2871</td>\n",
              "      <td>0.07039</td>\n",
              "      <td>B</td>\n",
              "    </tr>\n",
              "  </tbody>\n",
              "</table>\n",
              "<p>569 rows × 31 columns</p>\n",
              "</div>\n",
              "      <button class=\"colab-df-convert\" onclick=\"convertToInteractive('df-ab97b509-715d-474a-b6b0-60a06577187c')\"\n",
              "              title=\"Convert this dataframe to an interactive table.\"\n",
              "              style=\"display:none;\">\n",
              "        \n",
              "  <svg xmlns=\"http://www.w3.org/2000/svg\" height=\"24px\"viewBox=\"0 0 24 24\"\n",
              "       width=\"24px\">\n",
              "    <path d=\"M0 0h24v24H0V0z\" fill=\"none\"/>\n",
              "    <path d=\"M18.56 5.44l.94 2.06.94-2.06 2.06-.94-2.06-.94-.94-2.06-.94 2.06-2.06.94zm-11 1L8.5 8.5l.94-2.06 2.06-.94-2.06-.94L8.5 2.5l-.94 2.06-2.06.94zm10 10l.94 2.06.94-2.06 2.06-.94-2.06-.94-.94-2.06-.94 2.06-2.06.94z\"/><path d=\"M17.41 7.96l-1.37-1.37c-.4-.4-.92-.59-1.43-.59-.52 0-1.04.2-1.43.59L10.3 9.45l-7.72 7.72c-.78.78-.78 2.05 0 2.83L4 21.41c.39.39.9.59 1.41.59.51 0 1.02-.2 1.41-.59l7.78-7.78 2.81-2.81c.8-.78.8-2.07 0-2.86zM5.41 20L4 18.59l7.72-7.72 1.47 1.35L5.41 20z\"/>\n",
              "  </svg>\n",
              "      </button>\n",
              "      \n",
              "  <style>\n",
              "    .colab-df-container {\n",
              "      display:flex;\n",
              "      flex-wrap:wrap;\n",
              "      gap: 12px;\n",
              "    }\n",
              "\n",
              "    .colab-df-convert {\n",
              "      background-color: #E8F0FE;\n",
              "      border: none;\n",
              "      border-radius: 50%;\n",
              "      cursor: pointer;\n",
              "      display: none;\n",
              "      fill: #1967D2;\n",
              "      height: 32px;\n",
              "      padding: 0 0 0 0;\n",
              "      width: 32px;\n",
              "    }\n",
              "\n",
              "    .colab-df-convert:hover {\n",
              "      background-color: #E2EBFA;\n",
              "      box-shadow: 0px 1px 2px rgba(60, 64, 67, 0.3), 0px 1px 3px 1px rgba(60, 64, 67, 0.15);\n",
              "      fill: #174EA6;\n",
              "    }\n",
              "\n",
              "    [theme=dark] .colab-df-convert {\n",
              "      background-color: #3B4455;\n",
              "      fill: #D2E3FC;\n",
              "    }\n",
              "\n",
              "    [theme=dark] .colab-df-convert:hover {\n",
              "      background-color: #434B5C;\n",
              "      box-shadow: 0px 1px 3px 1px rgba(0, 0, 0, 0.15);\n",
              "      filter: drop-shadow(0px 1px 2px rgba(0, 0, 0, 0.3));\n",
              "      fill: #FFFFFF;\n",
              "    }\n",
              "  </style>\n",
              "\n",
              "      <script>\n",
              "        const buttonEl =\n",
              "          document.querySelector('#df-ab97b509-715d-474a-b6b0-60a06577187c button.colab-df-convert');\n",
              "        buttonEl.style.display =\n",
              "          google.colab.kernel.accessAllowed ? 'block' : 'none';\n",
              "\n",
              "        async function convertToInteractive(key) {\n",
              "          const element = document.querySelector('#df-ab97b509-715d-474a-b6b0-60a06577187c');\n",
              "          const dataTable =\n",
              "            await google.colab.kernel.invokeFunction('convertToInteractive',\n",
              "                                                     [key], {});\n",
              "          if (!dataTable) return;\n",
              "\n",
              "          const docLinkHtml = 'Like what you see? Visit the ' +\n",
              "            '<a target=\"_blank\" href=https://colab.research.google.com/notebooks/data_table.ipynb>data table notebook</a>'\n",
              "            + ' to learn more about interactive tables.';\n",
              "          element.innerHTML = '';\n",
              "          dataTable['output_type'] = 'display_data';\n",
              "          await google.colab.output.renderOutput(dataTable, element);\n",
              "          const docLink = document.createElement('div');\n",
              "          docLink.innerHTML = docLinkHtml;\n",
              "          element.appendChild(docLink);\n",
              "        }\n",
              "      </script>\n",
              "    </div>\n",
              "  </div>\n",
              "  "
            ]
          },
          "metadata": {},
          "execution_count": 8
        }
      ]
    },
    {
      "cell_type": "code",
      "source": [
        "from sklearn.preprocessing import LabelEncoder\n",
        "l1=LabelEncoder()\n",
        "data['diagnosis']=l1.fit_transform(data['diagnosis'])\n",
        "data['diagnosis'].unique()"
      ],
      "metadata": {
        "colab": {
          "base_uri": "https://localhost:8080/"
        },
        "id": "69WiSkvTqMiv",
        "outputId": "ee4998e8-fc12-4c71-fe9c-977d6938a8de"
      },
      "execution_count": 9,
      "outputs": [
        {
          "output_type": "execute_result",
          "data": {
            "text/plain": [
              "array([1, 0])"
            ]
          },
          "metadata": {},
          "execution_count": 9
        }
      ]
    },
    {
      "cell_type": "code",
      "source": [
        "data"
      ],
      "metadata": {
        "colab": {
          "base_uri": "https://localhost:8080/",
          "height": 500
        },
        "id": "BMrnciNIqMk0",
        "outputId": "87a71095-6468-4cdb-fa42-16ec7900f34a"
      },
      "execution_count": 10,
      "outputs": [
        {
          "output_type": "execute_result",
          "data": {
            "text/plain": [
              "     radius_mean  texture_mean  perimeter_mean  area_mean  smoothness_mean  \\\n",
              "0          17.99         10.38          122.80     1001.0          0.11840   \n",
              "1          20.57         17.77          132.90     1326.0          0.08474   \n",
              "2          19.69         21.25          130.00     1203.0          0.10960   \n",
              "3          11.42         20.38           77.58      386.1          0.14250   \n",
              "4          20.29         14.34          135.10     1297.0          0.10030   \n",
              "..           ...           ...             ...        ...              ...   \n",
              "564        21.56         22.39          142.00     1479.0          0.11100   \n",
              "565        20.13         28.25          131.20     1261.0          0.09780   \n",
              "566        16.60         28.08          108.30      858.1          0.08455   \n",
              "567        20.60         29.33          140.10     1265.0          0.11780   \n",
              "568         7.76         24.54           47.92      181.0          0.05263   \n",
              "\n",
              "     compactness_mean  concavity_mean  concave points_mean  symmetry_mean  \\\n",
              "0             0.27760         0.30010              0.14710         0.2419   \n",
              "1             0.07864         0.08690              0.07017         0.1812   \n",
              "2             0.15990         0.19740              0.12790         0.2069   \n",
              "3             0.28390         0.24140              0.10520         0.2597   \n",
              "4             0.13280         0.19800              0.10430         0.1809   \n",
              "..                ...             ...                  ...            ...   \n",
              "564           0.11590         0.24390              0.13890         0.1726   \n",
              "565           0.10340         0.14400              0.09791         0.1752   \n",
              "566           0.10230         0.09251              0.05302         0.1590   \n",
              "567           0.27700         0.35140              0.15200         0.2397   \n",
              "568           0.04362         0.00000              0.00000         0.1587   \n",
              "\n",
              "     fractal_dimension_mean  ...  texture_worst  perimeter_worst  area_worst  \\\n",
              "0                   0.07871  ...          17.33           184.60      2019.0   \n",
              "1                   0.05667  ...          23.41           158.80      1956.0   \n",
              "2                   0.05999  ...          25.53           152.50      1709.0   \n",
              "3                   0.09744  ...          26.50            98.87       567.7   \n",
              "4                   0.05883  ...          16.67           152.20      1575.0   \n",
              "..                      ...  ...            ...              ...         ...   \n",
              "564                 0.05623  ...          26.40           166.10      2027.0   \n",
              "565                 0.05533  ...          38.25           155.00      1731.0   \n",
              "566                 0.05648  ...          34.12           126.70      1124.0   \n",
              "567                 0.07016  ...          39.42           184.60      1821.0   \n",
              "568                 0.05884  ...          30.37            59.16       268.6   \n",
              "\n",
              "     smoothness_worst  compactness_worst  concavity_worst  \\\n",
              "0             0.16220            0.66560           0.7119   \n",
              "1             0.12380            0.18660           0.2416   \n",
              "2             0.14440            0.42450           0.4504   \n",
              "3             0.20980            0.86630           0.6869   \n",
              "4             0.13740            0.20500           0.4000   \n",
              "..                ...                ...              ...   \n",
              "564           0.14100            0.21130           0.4107   \n",
              "565           0.11660            0.19220           0.3215   \n",
              "566           0.11390            0.30940           0.3403   \n",
              "567           0.16500            0.86810           0.9387   \n",
              "568           0.08996            0.06444           0.0000   \n",
              "\n",
              "     concave points_worst  symmetry_worst  fractal_dimension_worst  diagnosis  \n",
              "0                  0.2654          0.4601                  0.11890          1  \n",
              "1                  0.1860          0.2750                  0.08902          1  \n",
              "2                  0.2430          0.3613                  0.08758          1  \n",
              "3                  0.2575          0.6638                  0.17300          1  \n",
              "4                  0.1625          0.2364                  0.07678          1  \n",
              "..                    ...             ...                      ...        ...  \n",
              "564                0.2216          0.2060                  0.07115          1  \n",
              "565                0.1628          0.2572                  0.06637          1  \n",
              "566                0.1418          0.2218                  0.07820          1  \n",
              "567                0.2650          0.4087                  0.12400          1  \n",
              "568                0.0000          0.2871                  0.07039          0  \n",
              "\n",
              "[569 rows x 31 columns]"
            ],
            "text/html": [
              "\n",
              "  <div id=\"df-008d01e6-6792-4404-9935-7db5d25e9101\">\n",
              "    <div class=\"colab-df-container\">\n",
              "      <div>\n",
              "<style scoped>\n",
              "    .dataframe tbody tr th:only-of-type {\n",
              "        vertical-align: middle;\n",
              "    }\n",
              "\n",
              "    .dataframe tbody tr th {\n",
              "        vertical-align: top;\n",
              "    }\n",
              "\n",
              "    .dataframe thead th {\n",
              "        text-align: right;\n",
              "    }\n",
              "</style>\n",
              "<table border=\"1\" class=\"dataframe\">\n",
              "  <thead>\n",
              "    <tr style=\"text-align: right;\">\n",
              "      <th></th>\n",
              "      <th>radius_mean</th>\n",
              "      <th>texture_mean</th>\n",
              "      <th>perimeter_mean</th>\n",
              "      <th>area_mean</th>\n",
              "      <th>smoothness_mean</th>\n",
              "      <th>compactness_mean</th>\n",
              "      <th>concavity_mean</th>\n",
              "      <th>concave points_mean</th>\n",
              "      <th>symmetry_mean</th>\n",
              "      <th>fractal_dimension_mean</th>\n",
              "      <th>...</th>\n",
              "      <th>texture_worst</th>\n",
              "      <th>perimeter_worst</th>\n",
              "      <th>area_worst</th>\n",
              "      <th>smoothness_worst</th>\n",
              "      <th>compactness_worst</th>\n",
              "      <th>concavity_worst</th>\n",
              "      <th>concave points_worst</th>\n",
              "      <th>symmetry_worst</th>\n",
              "      <th>fractal_dimension_worst</th>\n",
              "      <th>diagnosis</th>\n",
              "    </tr>\n",
              "  </thead>\n",
              "  <tbody>\n",
              "    <tr>\n",
              "      <th>0</th>\n",
              "      <td>17.99</td>\n",
              "      <td>10.38</td>\n",
              "      <td>122.80</td>\n",
              "      <td>1001.0</td>\n",
              "      <td>0.11840</td>\n",
              "      <td>0.27760</td>\n",
              "      <td>0.30010</td>\n",
              "      <td>0.14710</td>\n",
              "      <td>0.2419</td>\n",
              "      <td>0.07871</td>\n",
              "      <td>...</td>\n",
              "      <td>17.33</td>\n",
              "      <td>184.60</td>\n",
              "      <td>2019.0</td>\n",
              "      <td>0.16220</td>\n",
              "      <td>0.66560</td>\n",
              "      <td>0.7119</td>\n",
              "      <td>0.2654</td>\n",
              "      <td>0.4601</td>\n",
              "      <td>0.11890</td>\n",
              "      <td>1</td>\n",
              "    </tr>\n",
              "    <tr>\n",
              "      <th>1</th>\n",
              "      <td>20.57</td>\n",
              "      <td>17.77</td>\n",
              "      <td>132.90</td>\n",
              "      <td>1326.0</td>\n",
              "      <td>0.08474</td>\n",
              "      <td>0.07864</td>\n",
              "      <td>0.08690</td>\n",
              "      <td>0.07017</td>\n",
              "      <td>0.1812</td>\n",
              "      <td>0.05667</td>\n",
              "      <td>...</td>\n",
              "      <td>23.41</td>\n",
              "      <td>158.80</td>\n",
              "      <td>1956.0</td>\n",
              "      <td>0.12380</td>\n",
              "      <td>0.18660</td>\n",
              "      <td>0.2416</td>\n",
              "      <td>0.1860</td>\n",
              "      <td>0.2750</td>\n",
              "      <td>0.08902</td>\n",
              "      <td>1</td>\n",
              "    </tr>\n",
              "    <tr>\n",
              "      <th>2</th>\n",
              "      <td>19.69</td>\n",
              "      <td>21.25</td>\n",
              "      <td>130.00</td>\n",
              "      <td>1203.0</td>\n",
              "      <td>0.10960</td>\n",
              "      <td>0.15990</td>\n",
              "      <td>0.19740</td>\n",
              "      <td>0.12790</td>\n",
              "      <td>0.2069</td>\n",
              "      <td>0.05999</td>\n",
              "      <td>...</td>\n",
              "      <td>25.53</td>\n",
              "      <td>152.50</td>\n",
              "      <td>1709.0</td>\n",
              "      <td>0.14440</td>\n",
              "      <td>0.42450</td>\n",
              "      <td>0.4504</td>\n",
              "      <td>0.2430</td>\n",
              "      <td>0.3613</td>\n",
              "      <td>0.08758</td>\n",
              "      <td>1</td>\n",
              "    </tr>\n",
              "    <tr>\n",
              "      <th>3</th>\n",
              "      <td>11.42</td>\n",
              "      <td>20.38</td>\n",
              "      <td>77.58</td>\n",
              "      <td>386.1</td>\n",
              "      <td>0.14250</td>\n",
              "      <td>0.28390</td>\n",
              "      <td>0.24140</td>\n",
              "      <td>0.10520</td>\n",
              "      <td>0.2597</td>\n",
              "      <td>0.09744</td>\n",
              "      <td>...</td>\n",
              "      <td>26.50</td>\n",
              "      <td>98.87</td>\n",
              "      <td>567.7</td>\n",
              "      <td>0.20980</td>\n",
              "      <td>0.86630</td>\n",
              "      <td>0.6869</td>\n",
              "      <td>0.2575</td>\n",
              "      <td>0.6638</td>\n",
              "      <td>0.17300</td>\n",
              "      <td>1</td>\n",
              "    </tr>\n",
              "    <tr>\n",
              "      <th>4</th>\n",
              "      <td>20.29</td>\n",
              "      <td>14.34</td>\n",
              "      <td>135.10</td>\n",
              "      <td>1297.0</td>\n",
              "      <td>0.10030</td>\n",
              "      <td>0.13280</td>\n",
              "      <td>0.19800</td>\n",
              "      <td>0.10430</td>\n",
              "      <td>0.1809</td>\n",
              "      <td>0.05883</td>\n",
              "      <td>...</td>\n",
              "      <td>16.67</td>\n",
              "      <td>152.20</td>\n",
              "      <td>1575.0</td>\n",
              "      <td>0.13740</td>\n",
              "      <td>0.20500</td>\n",
              "      <td>0.4000</td>\n",
              "      <td>0.1625</td>\n",
              "      <td>0.2364</td>\n",
              "      <td>0.07678</td>\n",
              "      <td>1</td>\n",
              "    </tr>\n",
              "    <tr>\n",
              "      <th>...</th>\n",
              "      <td>...</td>\n",
              "      <td>...</td>\n",
              "      <td>...</td>\n",
              "      <td>...</td>\n",
              "      <td>...</td>\n",
              "      <td>...</td>\n",
              "      <td>...</td>\n",
              "      <td>...</td>\n",
              "      <td>...</td>\n",
              "      <td>...</td>\n",
              "      <td>...</td>\n",
              "      <td>...</td>\n",
              "      <td>...</td>\n",
              "      <td>...</td>\n",
              "      <td>...</td>\n",
              "      <td>...</td>\n",
              "      <td>...</td>\n",
              "      <td>...</td>\n",
              "      <td>...</td>\n",
              "      <td>...</td>\n",
              "      <td>...</td>\n",
              "    </tr>\n",
              "    <tr>\n",
              "      <th>564</th>\n",
              "      <td>21.56</td>\n",
              "      <td>22.39</td>\n",
              "      <td>142.00</td>\n",
              "      <td>1479.0</td>\n",
              "      <td>0.11100</td>\n",
              "      <td>0.11590</td>\n",
              "      <td>0.24390</td>\n",
              "      <td>0.13890</td>\n",
              "      <td>0.1726</td>\n",
              "      <td>0.05623</td>\n",
              "      <td>...</td>\n",
              "      <td>26.40</td>\n",
              "      <td>166.10</td>\n",
              "      <td>2027.0</td>\n",
              "      <td>0.14100</td>\n",
              "      <td>0.21130</td>\n",
              "      <td>0.4107</td>\n",
              "      <td>0.2216</td>\n",
              "      <td>0.2060</td>\n",
              "      <td>0.07115</td>\n",
              "      <td>1</td>\n",
              "    </tr>\n",
              "    <tr>\n",
              "      <th>565</th>\n",
              "      <td>20.13</td>\n",
              "      <td>28.25</td>\n",
              "      <td>131.20</td>\n",
              "      <td>1261.0</td>\n",
              "      <td>0.09780</td>\n",
              "      <td>0.10340</td>\n",
              "      <td>0.14400</td>\n",
              "      <td>0.09791</td>\n",
              "      <td>0.1752</td>\n",
              "      <td>0.05533</td>\n",
              "      <td>...</td>\n",
              "      <td>38.25</td>\n",
              "      <td>155.00</td>\n",
              "      <td>1731.0</td>\n",
              "      <td>0.11660</td>\n",
              "      <td>0.19220</td>\n",
              "      <td>0.3215</td>\n",
              "      <td>0.1628</td>\n",
              "      <td>0.2572</td>\n",
              "      <td>0.06637</td>\n",
              "      <td>1</td>\n",
              "    </tr>\n",
              "    <tr>\n",
              "      <th>566</th>\n",
              "      <td>16.60</td>\n",
              "      <td>28.08</td>\n",
              "      <td>108.30</td>\n",
              "      <td>858.1</td>\n",
              "      <td>0.08455</td>\n",
              "      <td>0.10230</td>\n",
              "      <td>0.09251</td>\n",
              "      <td>0.05302</td>\n",
              "      <td>0.1590</td>\n",
              "      <td>0.05648</td>\n",
              "      <td>...</td>\n",
              "      <td>34.12</td>\n",
              "      <td>126.70</td>\n",
              "      <td>1124.0</td>\n",
              "      <td>0.11390</td>\n",
              "      <td>0.30940</td>\n",
              "      <td>0.3403</td>\n",
              "      <td>0.1418</td>\n",
              "      <td>0.2218</td>\n",
              "      <td>0.07820</td>\n",
              "      <td>1</td>\n",
              "    </tr>\n",
              "    <tr>\n",
              "      <th>567</th>\n",
              "      <td>20.60</td>\n",
              "      <td>29.33</td>\n",
              "      <td>140.10</td>\n",
              "      <td>1265.0</td>\n",
              "      <td>0.11780</td>\n",
              "      <td>0.27700</td>\n",
              "      <td>0.35140</td>\n",
              "      <td>0.15200</td>\n",
              "      <td>0.2397</td>\n",
              "      <td>0.07016</td>\n",
              "      <td>...</td>\n",
              "      <td>39.42</td>\n",
              "      <td>184.60</td>\n",
              "      <td>1821.0</td>\n",
              "      <td>0.16500</td>\n",
              "      <td>0.86810</td>\n",
              "      <td>0.9387</td>\n",
              "      <td>0.2650</td>\n",
              "      <td>0.4087</td>\n",
              "      <td>0.12400</td>\n",
              "      <td>1</td>\n",
              "    </tr>\n",
              "    <tr>\n",
              "      <th>568</th>\n",
              "      <td>7.76</td>\n",
              "      <td>24.54</td>\n",
              "      <td>47.92</td>\n",
              "      <td>181.0</td>\n",
              "      <td>0.05263</td>\n",
              "      <td>0.04362</td>\n",
              "      <td>0.00000</td>\n",
              "      <td>0.00000</td>\n",
              "      <td>0.1587</td>\n",
              "      <td>0.05884</td>\n",
              "      <td>...</td>\n",
              "      <td>30.37</td>\n",
              "      <td>59.16</td>\n",
              "      <td>268.6</td>\n",
              "      <td>0.08996</td>\n",
              "      <td>0.06444</td>\n",
              "      <td>0.0000</td>\n",
              "      <td>0.0000</td>\n",
              "      <td>0.2871</td>\n",
              "      <td>0.07039</td>\n",
              "      <td>0</td>\n",
              "    </tr>\n",
              "  </tbody>\n",
              "</table>\n",
              "<p>569 rows × 31 columns</p>\n",
              "</div>\n",
              "      <button class=\"colab-df-convert\" onclick=\"convertToInteractive('df-008d01e6-6792-4404-9935-7db5d25e9101')\"\n",
              "              title=\"Convert this dataframe to an interactive table.\"\n",
              "              style=\"display:none;\">\n",
              "        \n",
              "  <svg xmlns=\"http://www.w3.org/2000/svg\" height=\"24px\"viewBox=\"0 0 24 24\"\n",
              "       width=\"24px\">\n",
              "    <path d=\"M0 0h24v24H0V0z\" fill=\"none\"/>\n",
              "    <path d=\"M18.56 5.44l.94 2.06.94-2.06 2.06-.94-2.06-.94-.94-2.06-.94 2.06-2.06.94zm-11 1L8.5 8.5l.94-2.06 2.06-.94-2.06-.94L8.5 2.5l-.94 2.06-2.06.94zm10 10l.94 2.06.94-2.06 2.06-.94-2.06-.94-.94-2.06-.94 2.06-2.06.94z\"/><path d=\"M17.41 7.96l-1.37-1.37c-.4-.4-.92-.59-1.43-.59-.52 0-1.04.2-1.43.59L10.3 9.45l-7.72 7.72c-.78.78-.78 2.05 0 2.83L4 21.41c.39.39.9.59 1.41.59.51 0 1.02-.2 1.41-.59l7.78-7.78 2.81-2.81c.8-.78.8-2.07 0-2.86zM5.41 20L4 18.59l7.72-7.72 1.47 1.35L5.41 20z\"/>\n",
              "  </svg>\n",
              "      </button>\n",
              "      \n",
              "  <style>\n",
              "    .colab-df-container {\n",
              "      display:flex;\n",
              "      flex-wrap:wrap;\n",
              "      gap: 12px;\n",
              "    }\n",
              "\n",
              "    .colab-df-convert {\n",
              "      background-color: #E8F0FE;\n",
              "      border: none;\n",
              "      border-radius: 50%;\n",
              "      cursor: pointer;\n",
              "      display: none;\n",
              "      fill: #1967D2;\n",
              "      height: 32px;\n",
              "      padding: 0 0 0 0;\n",
              "      width: 32px;\n",
              "    }\n",
              "\n",
              "    .colab-df-convert:hover {\n",
              "      background-color: #E2EBFA;\n",
              "      box-shadow: 0px 1px 2px rgba(60, 64, 67, 0.3), 0px 1px 3px 1px rgba(60, 64, 67, 0.15);\n",
              "      fill: #174EA6;\n",
              "    }\n",
              "\n",
              "    [theme=dark] .colab-df-convert {\n",
              "      background-color: #3B4455;\n",
              "      fill: #D2E3FC;\n",
              "    }\n",
              "\n",
              "    [theme=dark] .colab-df-convert:hover {\n",
              "      background-color: #434B5C;\n",
              "      box-shadow: 0px 1px 3px 1px rgba(0, 0, 0, 0.15);\n",
              "      filter: drop-shadow(0px 1px 2px rgba(0, 0, 0, 0.3));\n",
              "      fill: #FFFFFF;\n",
              "    }\n",
              "  </style>\n",
              "\n",
              "      <script>\n",
              "        const buttonEl =\n",
              "          document.querySelector('#df-008d01e6-6792-4404-9935-7db5d25e9101 button.colab-df-convert');\n",
              "        buttonEl.style.display =\n",
              "          google.colab.kernel.accessAllowed ? 'block' : 'none';\n",
              "\n",
              "        async function convertToInteractive(key) {\n",
              "          const element = document.querySelector('#df-008d01e6-6792-4404-9935-7db5d25e9101');\n",
              "          const dataTable =\n",
              "            await google.colab.kernel.invokeFunction('convertToInteractive',\n",
              "                                                     [key], {});\n",
              "          if (!dataTable) return;\n",
              "\n",
              "          const docLinkHtml = 'Like what you see? Visit the ' +\n",
              "            '<a target=\"_blank\" href=https://colab.research.google.com/notebooks/data_table.ipynb>data table notebook</a>'\n",
              "            + ' to learn more about interactive tables.';\n",
              "          element.innerHTML = '';\n",
              "          dataTable['output_type'] = 'display_data';\n",
              "          await google.colab.output.renderOutput(dataTable, element);\n",
              "          const docLink = document.createElement('div');\n",
              "          docLink.innerHTML = docLinkHtml;\n",
              "          element.appendChild(docLink);\n",
              "        }\n",
              "      </script>\n",
              "    </div>\n",
              "  </div>\n",
              "  "
            ]
          },
          "metadata": {},
          "execution_count": 10
        }
      ]
    },
    {
      "cell_type": "code",
      "source": [
        "data['diagnosis'].value_counts()"
      ],
      "metadata": {
        "colab": {
          "base_uri": "https://localhost:8080/"
        },
        "id": "WmxrzBbFqMnL",
        "outputId": "91b784cf-b454-4995-a3c2-6d843ea99a72"
      },
      "execution_count": 11,
      "outputs": [
        {
          "output_type": "execute_result",
          "data": {
            "text/plain": [
              "0    357\n",
              "1    212\n",
              "Name: diagnosis, dtype: int64"
            ]
          },
          "metadata": {},
          "execution_count": 11
        }
      ]
    },
    {
      "cell_type": "code",
      "source": [
        "x=data.iloc[:,:-1].values\n",
        "y=data.iloc[:,-1].values"
      ],
      "metadata": {
        "id": "bNI_EsFpqMpz"
      },
      "execution_count": 12,
      "outputs": []
    },
    {
      "cell_type": "code",
      "source": [
        "plt.boxplot(x)"
      ],
      "metadata": {
        "colab": {
          "base_uri": "https://localhost:8080/",
          "height": 1000
        },
        "id": "hY_sHs5MrdZ-",
        "outputId": "22eb683c-2910-4f13-bd1c-6c6147a90eb9"
      },
      "execution_count": 13,
      "outputs": [
        {
          "output_type": "execute_result",
          "data": {
            "text/plain": [
              "{'whiskers': [<matplotlib.lines.Line2D at 0x7f60dcbb64c0>,\n",
              "  <matplotlib.lines.Line2D at 0x7f60dcbb6820>,\n",
              "  <matplotlib.lines.Line2D at 0x7f60dcbc4cd0>,\n",
              "  <matplotlib.lines.Line2D at 0x7f60dcbd1070>,\n",
              "  <matplotlib.lines.Line2D at 0x7f60dcbdc4f0>,\n",
              "  <matplotlib.lines.Line2D at 0x7f60dcbdc850>,\n",
              "  <matplotlib.lines.Line2D at 0x7f60dcbe7cd0>,\n",
              "  <matplotlib.lines.Line2D at 0x7f60dcb72070>,\n",
              "  <matplotlib.lines.Line2D at 0x7f60dcb7e4f0>,\n",
              "  <matplotlib.lines.Line2D at 0x7f60dcb7e850>,\n",
              "  <matplotlib.lines.Line2D at 0x7f60dcb89cd0>,\n",
              "  <matplotlib.lines.Line2D at 0x7f60dcb94070>,\n",
              "  <matplotlib.lines.Line2D at 0x7f60dcb9f4f0>,\n",
              "  <matplotlib.lines.Line2D at 0x7f60dcb9f850>,\n",
              "  <matplotlib.lines.Line2D at 0x7f60dcbabcd0>,\n",
              "  <matplotlib.lines.Line2D at 0x7f60dcb37070>,\n",
              "  <matplotlib.lines.Line2D at 0x7f60dcb424f0>,\n",
              "  <matplotlib.lines.Line2D at 0x7f60dcb42850>,\n",
              "  <matplotlib.lines.Line2D at 0x7f60dcb4ccd0>,\n",
              "  <matplotlib.lines.Line2D at 0x7f60dcb57070>,\n",
              "  <matplotlib.lines.Line2D at 0x7f60dcb644f0>,\n",
              "  <matplotlib.lines.Line2D at 0x7f60dcb64850>,\n",
              "  <matplotlib.lines.Line2D at 0x7f60dcaedcd0>,\n",
              "  <matplotlib.lines.Line2D at 0x7f60dcafa070>,\n",
              "  <matplotlib.lines.Line2D at 0x7f60dcb044f0>,\n",
              "  <matplotlib.lines.Line2D at 0x7f60dcb04850>,\n",
              "  <matplotlib.lines.Line2D at 0x7f60dcb11cd0>,\n",
              "  <matplotlib.lines.Line2D at 0x7f60dcb1b070>,\n",
              "  <matplotlib.lines.Line2D at 0x7f60dcb284f0>,\n",
              "  <matplotlib.lines.Line2D at 0x7f60dcb28850>,\n",
              "  <matplotlib.lines.Line2D at 0x7f60dcab1cd0>,\n",
              "  <matplotlib.lines.Line2D at 0x7f60dcabd070>,\n",
              "  <matplotlib.lines.Line2D at 0x7f60dcac84f0>,\n",
              "  <matplotlib.lines.Line2D at 0x7f60dcac8850>,\n",
              "  <matplotlib.lines.Line2D at 0x7f60dcad5cd0>,\n",
              "  <matplotlib.lines.Line2D at 0x7f60dcae0070>,\n",
              "  <matplotlib.lines.Line2D at 0x7f60dcaeb4f0>,\n",
              "  <matplotlib.lines.Line2D at 0x7f60dcaeb850>,\n",
              "  <matplotlib.lines.Line2D at 0x7f60dca74cd0>,\n",
              "  <matplotlib.lines.Line2D at 0x7f60dca82070>,\n",
              "  <matplotlib.lines.Line2D at 0x7f60dca8d4f0>,\n",
              "  <matplotlib.lines.Line2D at 0x7f60dca8d850>,\n",
              "  <matplotlib.lines.Line2D at 0x7f60dca98cd0>,\n",
              "  <matplotlib.lines.Line2D at 0x7f60dcaa3070>,\n",
              "  <matplotlib.lines.Line2D at 0x7f60dca304f0>,\n",
              "  <matplotlib.lines.Line2D at 0x7f60dca30850>,\n",
              "  <matplotlib.lines.Line2D at 0x7f60dca3bcd0>,\n",
              "  <matplotlib.lines.Line2D at 0x7f60dca43070>,\n",
              "  <matplotlib.lines.Line2D at 0x7f60dca504f0>,\n",
              "  <matplotlib.lines.Line2D at 0x7f60dca50850>,\n",
              "  <matplotlib.lines.Line2D at 0x7f60dca5bcd0>,\n",
              "  <matplotlib.lines.Line2D at 0x7f60dca67070>,\n",
              "  <matplotlib.lines.Line2D at 0x7f60dc9f34f0>,\n",
              "  <matplotlib.lines.Line2D at 0x7f60dc9f3850>,\n",
              "  <matplotlib.lines.Line2D at 0x7f60dc9fccd0>,\n",
              "  <matplotlib.lines.Line2D at 0x7f60dca09070>,\n",
              "  <matplotlib.lines.Line2D at 0x7f60dca144f0>,\n",
              "  <matplotlib.lines.Line2D at 0x7f60dca14850>,\n",
              "  <matplotlib.lines.Line2D at 0x7f60dca1fcd0>,\n",
              "  <matplotlib.lines.Line2D at 0x7f60dca29070>],\n",
              " 'caps': [<matplotlib.lines.Line2D at 0x7f60dcbb6b80>,\n",
              "  <matplotlib.lines.Line2D at 0x7f60dcbb6ee0>,\n",
              "  <matplotlib.lines.Line2D at 0x7f60dcbd13d0>,\n",
              "  <matplotlib.lines.Line2D at 0x7f60dcbd1730>,\n",
              "  <matplotlib.lines.Line2D at 0x7f60dcbdcbb0>,\n",
              "  <matplotlib.lines.Line2D at 0x7f60dcbdcf10>,\n",
              "  <matplotlib.lines.Line2D at 0x7f60dcb723d0>,\n",
              "  <matplotlib.lines.Line2D at 0x7f60dcb72730>,\n",
              "  <matplotlib.lines.Line2D at 0x7f60dcb7ebb0>,\n",
              "  <matplotlib.lines.Line2D at 0x7f60dcb7ef10>,\n",
              "  <matplotlib.lines.Line2D at 0x7f60dcb943d0>,\n",
              "  <matplotlib.lines.Line2D at 0x7f60dcb94730>,\n",
              "  <matplotlib.lines.Line2D at 0x7f60dcb9fbb0>,\n",
              "  <matplotlib.lines.Line2D at 0x7f60dcb9ff10>,\n",
              "  <matplotlib.lines.Line2D at 0x7f60dcb373d0>,\n",
              "  <matplotlib.lines.Line2D at 0x7f60dcb37730>,\n",
              "  <matplotlib.lines.Line2D at 0x7f60dcb42bb0>,\n",
              "  <matplotlib.lines.Line2D at 0x7f60dcb42f10>,\n",
              "  <matplotlib.lines.Line2D at 0x7f60dcb573d0>,\n",
              "  <matplotlib.lines.Line2D at 0x7f60dcb57730>,\n",
              "  <matplotlib.lines.Line2D at 0x7f60dcb64bb0>,\n",
              "  <matplotlib.lines.Line2D at 0x7f60dcb64f10>,\n",
              "  <matplotlib.lines.Line2D at 0x7f60dcafa3d0>,\n",
              "  <matplotlib.lines.Line2D at 0x7f60dcafa730>,\n",
              "  <matplotlib.lines.Line2D at 0x7f60dcb04bb0>,\n",
              "  <matplotlib.lines.Line2D at 0x7f60dcb04f10>,\n",
              "  <matplotlib.lines.Line2D at 0x7f60dcb1b3d0>,\n",
              "  <matplotlib.lines.Line2D at 0x7f60dcb1b730>,\n",
              "  <matplotlib.lines.Line2D at 0x7f60dcb28bb0>,\n",
              "  <matplotlib.lines.Line2D at 0x7f60dcb28f10>,\n",
              "  <matplotlib.lines.Line2D at 0x7f60dcabd3d0>,\n",
              "  <matplotlib.lines.Line2D at 0x7f60dcabd730>,\n",
              "  <matplotlib.lines.Line2D at 0x7f60dcac8bb0>,\n",
              "  <matplotlib.lines.Line2D at 0x7f60dcac8f10>,\n",
              "  <matplotlib.lines.Line2D at 0x7f60dcae03d0>,\n",
              "  <matplotlib.lines.Line2D at 0x7f60dcae0730>,\n",
              "  <matplotlib.lines.Line2D at 0x7f60dcaebbb0>,\n",
              "  <matplotlib.lines.Line2D at 0x7f60dcaebf10>,\n",
              "  <matplotlib.lines.Line2D at 0x7f60dca823d0>,\n",
              "  <matplotlib.lines.Line2D at 0x7f60dca82730>,\n",
              "  <matplotlib.lines.Line2D at 0x7f60dca8dbb0>,\n",
              "  <matplotlib.lines.Line2D at 0x7f60dca8df10>,\n",
              "  <matplotlib.lines.Line2D at 0x7f60dcaa33d0>,\n",
              "  <matplotlib.lines.Line2D at 0x7f60dcaa3730>,\n",
              "  <matplotlib.lines.Line2D at 0x7f60dca30bb0>,\n",
              "  <matplotlib.lines.Line2D at 0x7f60dca30f10>,\n",
              "  <matplotlib.lines.Line2D at 0x7f60dca433d0>,\n",
              "  <matplotlib.lines.Line2D at 0x7f60dca43730>,\n",
              "  <matplotlib.lines.Line2D at 0x7f60dca50bb0>,\n",
              "  <matplotlib.lines.Line2D at 0x7f60dca50f10>,\n",
              "  <matplotlib.lines.Line2D at 0x7f60dca673d0>,\n",
              "  <matplotlib.lines.Line2D at 0x7f60dca67730>,\n",
              "  <matplotlib.lines.Line2D at 0x7f60dc9f3bb0>,\n",
              "  <matplotlib.lines.Line2D at 0x7f60dc9f3f10>,\n",
              "  <matplotlib.lines.Line2D at 0x7f60dca093d0>,\n",
              "  <matplotlib.lines.Line2D at 0x7f60dca09730>,\n",
              "  <matplotlib.lines.Line2D at 0x7f60dca14bb0>,\n",
              "  <matplotlib.lines.Line2D at 0x7f60dca14f10>,\n",
              "  <matplotlib.lines.Line2D at 0x7f60dca293d0>,\n",
              "  <matplotlib.lines.Line2D at 0x7f60dca29730>],\n",
              " 'boxes': [<matplotlib.lines.Line2D at 0x7f60dcbb6130>,\n",
              "  <matplotlib.lines.Line2D at 0x7f60dcbc4970>,\n",
              "  <matplotlib.lines.Line2D at 0x7f60dcbdc190>,\n",
              "  <matplotlib.lines.Line2D at 0x7f60dcbe7970>,\n",
              "  <matplotlib.lines.Line2D at 0x7f60dcb7e190>,\n",
              "  <matplotlib.lines.Line2D at 0x7f60dcb89970>,\n",
              "  <matplotlib.lines.Line2D at 0x7f60dcb9f190>,\n",
              "  <matplotlib.lines.Line2D at 0x7f60dcbab970>,\n",
              "  <matplotlib.lines.Line2D at 0x7f60dcb42190>,\n",
              "  <matplotlib.lines.Line2D at 0x7f60dcb4c970>,\n",
              "  <matplotlib.lines.Line2D at 0x7f60dcb64190>,\n",
              "  <matplotlib.lines.Line2D at 0x7f60dcaed970>,\n",
              "  <matplotlib.lines.Line2D at 0x7f60dcb04190>,\n",
              "  <matplotlib.lines.Line2D at 0x7f60dcb11970>,\n",
              "  <matplotlib.lines.Line2D at 0x7f60dcb28190>,\n",
              "  <matplotlib.lines.Line2D at 0x7f60dcab1970>,\n",
              "  <matplotlib.lines.Line2D at 0x7f60dcac8190>,\n",
              "  <matplotlib.lines.Line2D at 0x7f60dcad5970>,\n",
              "  <matplotlib.lines.Line2D at 0x7f60dcaeb190>,\n",
              "  <matplotlib.lines.Line2D at 0x7f60dca74970>,\n",
              "  <matplotlib.lines.Line2D at 0x7f60dca8d190>,\n",
              "  <matplotlib.lines.Line2D at 0x7f60dca98970>,\n",
              "  <matplotlib.lines.Line2D at 0x7f60dca30190>,\n",
              "  <matplotlib.lines.Line2D at 0x7f60dca3b970>,\n",
              "  <matplotlib.lines.Line2D at 0x7f60dca50190>,\n",
              "  <matplotlib.lines.Line2D at 0x7f60dca5b970>,\n",
              "  <matplotlib.lines.Line2D at 0x7f60dc9f3190>,\n",
              "  <matplotlib.lines.Line2D at 0x7f60dc9fc970>,\n",
              "  <matplotlib.lines.Line2D at 0x7f60dca14190>,\n",
              "  <matplotlib.lines.Line2D at 0x7f60dca1f970>],\n",
              " 'medians': [<matplotlib.lines.Line2D at 0x7f60dcbc4280>,\n",
              "  <matplotlib.lines.Line2D at 0x7f60dcbd1a90>,\n",
              "  <matplotlib.lines.Line2D at 0x7f60dcbe72b0>,\n",
              "  <matplotlib.lines.Line2D at 0x7f60dcb72a90>,\n",
              "  <matplotlib.lines.Line2D at 0x7f60dcb892b0>,\n",
              "  <matplotlib.lines.Line2D at 0x7f60dcb94a90>,\n",
              "  <matplotlib.lines.Line2D at 0x7f60dcbab2b0>,\n",
              "  <matplotlib.lines.Line2D at 0x7f60dcb37a90>,\n",
              "  <matplotlib.lines.Line2D at 0x7f60dcb4c2b0>,\n",
              "  <matplotlib.lines.Line2D at 0x7f60dcb57a90>,\n",
              "  <matplotlib.lines.Line2D at 0x7f60dcaed2b0>,\n",
              "  <matplotlib.lines.Line2D at 0x7f60dcafaa90>,\n",
              "  <matplotlib.lines.Line2D at 0x7f60dcb112b0>,\n",
              "  <matplotlib.lines.Line2D at 0x7f60dcb1ba90>,\n",
              "  <matplotlib.lines.Line2D at 0x7f60dcab12b0>,\n",
              "  <matplotlib.lines.Line2D at 0x7f60dcabda90>,\n",
              "  <matplotlib.lines.Line2D at 0x7f60dcad52b0>,\n",
              "  <matplotlib.lines.Line2D at 0x7f60dcae0a90>,\n",
              "  <matplotlib.lines.Line2D at 0x7f60dca742b0>,\n",
              "  <matplotlib.lines.Line2D at 0x7f60dca82a90>,\n",
              "  <matplotlib.lines.Line2D at 0x7f60dca982b0>,\n",
              "  <matplotlib.lines.Line2D at 0x7f60dcaa3a90>,\n",
              "  <matplotlib.lines.Line2D at 0x7f60dca3b2b0>,\n",
              "  <matplotlib.lines.Line2D at 0x7f60dca43a90>,\n",
              "  <matplotlib.lines.Line2D at 0x7f60dca5b2b0>,\n",
              "  <matplotlib.lines.Line2D at 0x7f60dca67a90>,\n",
              "  <matplotlib.lines.Line2D at 0x7f60dc9fc2b0>,\n",
              "  <matplotlib.lines.Line2D at 0x7f60dca09a90>,\n",
              "  <matplotlib.lines.Line2D at 0x7f60dca1f2b0>,\n",
              "  <matplotlib.lines.Line2D at 0x7f60dca29a90>],\n",
              " 'fliers': [<matplotlib.lines.Line2D at 0x7f60dcbc4580>,\n",
              "  <matplotlib.lines.Line2D at 0x7f60dcbd1d90>,\n",
              "  <matplotlib.lines.Line2D at 0x7f60dcbe75b0>,\n",
              "  <matplotlib.lines.Line2D at 0x7f60dcb72d90>,\n",
              "  <matplotlib.lines.Line2D at 0x7f60dcb895b0>,\n",
              "  <matplotlib.lines.Line2D at 0x7f60dcb94d90>,\n",
              "  <matplotlib.lines.Line2D at 0x7f60dcbab5b0>,\n",
              "  <matplotlib.lines.Line2D at 0x7f60dcb37d90>,\n",
              "  <matplotlib.lines.Line2D at 0x7f60dcb4c5b0>,\n",
              "  <matplotlib.lines.Line2D at 0x7f60dcb57d90>,\n",
              "  <matplotlib.lines.Line2D at 0x7f60dcaed5b0>,\n",
              "  <matplotlib.lines.Line2D at 0x7f60dcafad90>,\n",
              "  <matplotlib.lines.Line2D at 0x7f60dcb115b0>,\n",
              "  <matplotlib.lines.Line2D at 0x7f60dcb1bd90>,\n",
              "  <matplotlib.lines.Line2D at 0x7f60dcab15b0>,\n",
              "  <matplotlib.lines.Line2D at 0x7f60dcabdd90>,\n",
              "  <matplotlib.lines.Line2D at 0x7f60dcad55b0>,\n",
              "  <matplotlib.lines.Line2D at 0x7f60dcae0d90>,\n",
              "  <matplotlib.lines.Line2D at 0x7f60dca745b0>,\n",
              "  <matplotlib.lines.Line2D at 0x7f60dca82d90>,\n",
              "  <matplotlib.lines.Line2D at 0x7f60dca985b0>,\n",
              "  <matplotlib.lines.Line2D at 0x7f60dcaa3d90>,\n",
              "  <matplotlib.lines.Line2D at 0x7f60dca3b5b0>,\n",
              "  <matplotlib.lines.Line2D at 0x7f60dca43d90>,\n",
              "  <matplotlib.lines.Line2D at 0x7f60dca5b5b0>,\n",
              "  <matplotlib.lines.Line2D at 0x7f60dca67d90>,\n",
              "  <matplotlib.lines.Line2D at 0x7f60dc9fc5b0>,\n",
              "  <matplotlib.lines.Line2D at 0x7f60dca09d90>,\n",
              "  <matplotlib.lines.Line2D at 0x7f60dca1f5b0>,\n",
              "  <matplotlib.lines.Line2D at 0x7f60dca29d90>],\n",
              " 'means': []}"
            ]
          },
          "metadata": {},
          "execution_count": 13
        },
        {
          "output_type": "display_data",
          "data": {
            "text/plain": [
              "<Figure size 432x288 with 1 Axes>"
            ],
            "image/png": "[encoded data removed]"
          },
          "metadata": {
            "needs_background": "light"
          }
        }
      ]
    },
    {
      "cell_type": "code",
      "source": [
        "sns.boxplot(x)"
      ],
      "metadata": {
        "colab": {
          "base_uri": "https://localhost:8080/",
          "height": 336
        },
        "id": "_O1gsCrirdch",
        "outputId": "121736e2-4613-4f86-9d81-d6ec769d0525"
      },
      "execution_count": 14,
      "outputs": [
        {
          "output_type": "stream",
          "name": "stderr",
          "text": [
            "/usr/local/lib/python3.8/dist-packages/seaborn/_decorators.py:36: FutureWarning: Pass the following variable as a keyword arg: x. From version 0.12, the only valid positional argument will be `data`, and passing other arguments without an explicit keyword will result in an error or misinterpretation.\n",
            "  warnings.warn(\n"
          ]
        },
        {
          "output_type": "execute_result",
          "data": {
            "text/plain": [
              "<matplotlib.axes._subplots.AxesSubplot at 0x7f60dc911250>"
            ]
          },
          "metadata": {},
          "execution_count": 14
        },
        {
          "output_type": "display_data",
          "data": {
            "text/plain": [
              "<Figure size 432x288 with 1 Axes>"
            ],
            "image/png": "[encoded data removed]"
          },
          "metadata": {
            "needs_background": "light"
          }
        }
      ]
    },
    {
      "cell_type": "code",
      "source": [
        "from imblearn.over_sampling import SMOTE\n",
        "s=SMOTE()\n",
        "x_data,y_data=s.fit_resample(x,y)"
      ],
      "metadata": {
        "id": "BTsrEuKErdfK"
      },
      "execution_count": 15,
      "outputs": []
    },
    {
      "cell_type": "code",
      "source": [
        "from collections import Counter\n",
        "print(Counter(y_data))"
      ],
      "metadata": {
        "colab": {
          "base_uri": "https://localhost:8080/"
        },
        "id": "tPrGQCu0rv2_",
        "outputId": "11376a91-78b5-48d0-ed61-df9b21e54482"
      },
      "execution_count": 16,
      "outputs": [
        {
          "output_type": "stream",
          "name": "stdout",
          "text": [
            "Counter({1: 357, 0: 357})\n"
          ]
        }
      ]
    },
    {
      "cell_type": "code",
      "source": [
        "sns.kdeplot(data['radius_mean'])\n",
        "sns.kdeplot(data['texture_mean'])\n",
        "sns.kdeplot(data['perimeter_mean'])"
      ],
      "metadata": {
        "colab": {
          "base_uri": "https://localhost:8080/",
          "height": 297
        },
        "id": "ROzGVDNZrwSR",
        "outputId": "9d26c407-9c02-4d2c-f5a5-f403392517da"
      },
      "execution_count": 17,
      "outputs": [
        {
          "output_type": "execute_result",
          "data": {
            "text/plain": [
              "<matplotlib.axes._subplots.AxesSubplot at 0x7f60d8d3ca90>"
            ]
          },
          "metadata": {},
          "execution_count": 17
        },
        {
          "output_type": "display_data",
          "data": {
            "text/plain": [
              "<Figure size 432x288 with 1 Axes>"
            ],
            "image/png": "[encoded data removed]"
          },
          "metadata": {
            "needs_background": "light"
          }
        }
      ]
    },
    {
      "cell_type": "code",
      "source": [
        "from sklearn.preprocessing import StandardScaler\n",
        "ssd=StandardScaler()\n",
        "x_scaled=ssd.fit_transform(x_data)\n",
        "x_scaled"
      ],
      "metadata": {
        "colab": {
          "base_uri": "https://localhost:8080/"
        },
        "id": "BUVVNSBWrwUm",
        "outputId": "465f5ff4-bffa-4b43-b236-7fd48636d003"
      },
      "execution_count": 18,
      "outputs": [
        {
          "output_type": "execute_result",
          "data": {
            "text/plain": [
              "array([[ 0.85949452, -2.21563472,  1.02297184, ...,  2.02792297,\n",
              "         2.5821384 ,  1.75035258],\n",
              "       [ 1.56103617, -0.48616326,  1.42127195, ...,  0.84736116,\n",
              "        -0.35941042,  0.16963571],\n",
              "       [ 1.32175065,  0.32825632,  1.30690855, ...,  1.69486775,\n",
              "         1.01204103,  0.09345659],\n",
              "       ...,\n",
              "       [ 0.86647424, -0.66419307,  0.8138014 , ...,  0.36291609,\n",
              "        -0.23786886, -0.19906118],\n",
              "       [-0.4206265 ,  0.49682644, -0.3864964 , ...,  0.65023879,\n",
              "         1.10828734,  1.04577086],\n",
              "       [ 0.14243138,  1.07864261,  0.22370163, ...,  1.05612646,\n",
              "         1.6287846 ,  0.72012956]])"
            ]
          },
          "metadata": {},
          "execution_count": 18
        }
      ]
    },
    {
      "cell_type": "code",
      "source": [
        "sns.kdeplot(x_scaled[2])\n",
        "#sns.kdeplot(x_scaled[3])\n",
        "sns.kdeplot(x_scaled[4])\n",
        "sns.kdeplot(x_scaled[5])\n",
        "sns.kdeplot(x_scaled[6])\n",
        "sns.kdeplot(x_scaled[7])\n",
        "sns.kdeplot(x_scaled[8])"
      ],
      "metadata": {
        "colab": {
          "base_uri": "https://localhost:8080/",
          "height": 282
        },
        "id": "lH1YQJiir_gi",
        "outputId": "507eaf17-f126-4cab-f93d-1044597fb7ea"
      },
      "execution_count": 19,
      "outputs": [
        {
          "output_type": "execute_result",
          "data": {
            "text/plain": [
              "<matplotlib.axes._subplots.AxesSubplot at 0x7f60d6cbaa90>"
            ]
          },
          "metadata": {},
          "execution_count": 19
        },
        {
          "output_type": "display_data",
          "data": {
            "text/plain": [
              "<Figure size 432x288 with 1 Axes>"
            ],
            "image/png": "[encoded data removed]"
          },
          "metadata": {
            "needs_background": "light"
          }
        }
      ]
    },
    {
      "cell_type": "code",
      "source": [
        "plt.boxplot(x_scaled)"
      ],
      "metadata": {
        "colab": {
          "base_uri": "https://localhost:8080/",
          "height": 1000
        },
        "id": "T1YZPRDrr_kY",
        "outputId": "b65b6f47-7512-42c9-ad6d-e15f5d7a92c1"
      },
      "execution_count": 20,
      "outputs": [
        {
          "output_type": "execute_result",
          "data": {
            "text/plain": [
              "{'whiskers': [<matplotlib.lines.Line2D at 0x7f60d6c52b50>,\n",
              "  <matplotlib.lines.Line2D at 0x7f60d6c52eb0>,\n",
              "  <matplotlib.lines.Line2D at 0x7f60d6bf23a0>,\n",
              "  <matplotlib.lines.Line2D at 0x7f60d6bf2700>,\n",
              "  <matplotlib.lines.Line2D at 0x7f60d6bfdbb0>,\n",
              "  <matplotlib.lines.Line2D at 0x7f60d6bfdf10>,\n",
              "  <matplotlib.lines.Line2D at 0x7f60d6c143d0>,\n",
              "  <matplotlib.lines.Line2D at 0x7f60d6c14730>,\n",
              "  <matplotlib.lines.Line2D at 0x7f60d6ba0bb0>,\n",
              "  <matplotlib.lines.Line2D at 0x7f60d6ba0f10>,\n",
              "  <matplotlib.lines.Line2D at 0x7f60d6bb53d0>,\n",
              "  <matplotlib.lines.Line2D at 0x7f60d6bb5730>,\n",
              "  <matplotlib.lines.Line2D at 0x7f60d6bc2bb0>,\n",
              "  <matplotlib.lines.Line2D at 0x7f60d6bc2f10>,\n",
              "  <matplotlib.lines.Line2D at 0x7f60d6b583d0>,\n",
              "  <matplotlib.lines.Line2D at 0x7f60d6b58730>,\n",
              "  <matplotlib.lines.Line2D at 0x7f60d6b64bb0>,\n",
              "  <matplotlib.lines.Line2D at 0x7f60d6b64f10>,\n",
              "  <matplotlib.lines.Line2D at 0x7f60d6b7b3d0>,\n",
              "  <matplotlib.lines.Line2D at 0x7f60d6b7b730>,\n",
              "  <matplotlib.lines.Line2D at 0x7f60d6b86bb0>,\n",
              "  <matplotlib.lines.Line2D at 0x7f60d6b86f10>,\n",
              "  <matplotlib.lines.Line2D at 0x7f60d6b1d3d0>,\n",
              "  <matplotlib.lines.Line2D at 0x7f60d6b1d730>,\n",
              "  <matplotlib.lines.Line2D at 0x7f60d6b2abb0>,\n",
              "  <matplotlib.lines.Line2D at 0x7f60d6b2af10>,\n",
              "  <matplotlib.lines.Line2D at 0x7f60d6b413d0>,\n",
              "  <matplotlib.lines.Line2D at 0x7f60d6b41730>,\n",
              "  <matplotlib.lines.Line2D at 0x7f60d6b4dbe0>,\n",
              "  <matplotlib.lines.Line2D at 0x7f60d6b4df40>,\n",
              "  <matplotlib.lines.Line2D at 0x7f60d6ae34c0>,\n",
              "  <matplotlib.lines.Line2D at 0x7f60d6ae37f0>,\n",
              "  <matplotlib.lines.Line2D at 0x7f60d6af0cd0>,\n",
              "  <matplotlib.lines.Line2D at 0x7f60d6afe100>,\n",
              "  <matplotlib.lines.Line2D at 0x7f60d6b0a670>,\n",
              "  <matplotlib.lines.Line2D at 0x7f60d6b0a9d0>,\n",
              "  <matplotlib.lines.Line2D at 0x7f60d6a98e50>,\n",
              "  <matplotlib.lines.Line2D at 0x7f60d6aa51f0>,\n",
              "  <matplotlib.lines.Line2D at 0x7f60d6ab0670>,\n",
              "  <matplotlib.lines.Line2D at 0x7f60d6ab09d0>,\n",
              "  <matplotlib.lines.Line2D at 0x7f60d6abdd60>,\n",
              "  <matplotlib.lines.Line2D at 0x7f60d6ac9100>,\n",
              "  <matplotlib.lines.Line2D at 0x7f60d6ad4400>,\n",
              "  <matplotlib.lines.Line2D at 0x7f60d6ad4760>,\n",
              "  <matplotlib.lines.Line2D at 0x7f60d6a61bb0>,\n",
              "  <matplotlib.lines.Line2D at 0x7f60d6a61f10>,\n",
              "  <matplotlib.lines.Line2D at 0x7f60d6a793d0>,\n",
              "  <matplotlib.lines.Line2D at 0x7f60d6a79730>,\n",
              "  <matplotlib.lines.Line2D at 0x7f60d6a82bb0>,\n",
              "  <matplotlib.lines.Line2D at 0x7f60d6a82f10>,\n",
              "  <matplotlib.lines.Line2D at 0x7f60d6a193d0>,\n",
              "  <matplotlib.lines.Line2D at 0x7f60d6a19730>,\n",
              "  <matplotlib.lines.Line2D at 0x7f60d6a25bb0>,\n",
              "  <matplotlib.lines.Line2D at 0x7f60d6a25f10>,\n",
              "  <matplotlib.lines.Line2D at 0x7f60d6a3c3d0>,\n",
              "  <matplotlib.lines.Line2D at 0x7f60d6a3c730>,\n",
              "  <matplotlib.lines.Line2D at 0x7f60d6a4abb0>,\n",
              "  <matplotlib.lines.Line2D at 0x7f60d6a4af10>,\n",
              "  <matplotlib.lines.Line2D at 0x7f60d69df3d0>,\n",
              "  <matplotlib.lines.Line2D at 0x7f60d69df730>],\n",
              " 'caps': [<matplotlib.lines.Line2D at 0x7f60d6be6250>,\n",
              "  <matplotlib.lines.Line2D at 0x7f60d6be65b0>,\n",
              "  <matplotlib.lines.Line2D at 0x7f60d6bf2a60>,\n",
              "  <matplotlib.lines.Line2D at 0x7f60d6bf2dc0>,\n",
              "  <matplotlib.lines.Line2D at 0x7f60d6c072b0>,\n",
              "  <matplotlib.lines.Line2D at 0x7f60d6c07610>,\n",
              "  <matplotlib.lines.Line2D at 0x7f60d6c14a90>,\n",
              "  <matplotlib.lines.Line2D at 0x7f60d6c14df0>,\n",
              "  <matplotlib.lines.Line2D at 0x7f60d6ba92b0>,\n",
              "  <matplotlib.lines.Line2D at 0x7f60d6ba9610>,\n",
              "  <matplotlib.lines.Line2D at 0x7f60d6bb5a90>,\n",
              "  <matplotlib.lines.Line2D at 0x7f60d6bb5df0>,\n",
              "  <matplotlib.lines.Line2D at 0x7f60d6bcc2b0>,\n",
              "  <matplotlib.lines.Line2D at 0x7f60d6bcc610>,\n",
              "  <matplotlib.lines.Line2D at 0x7f60d6b58a90>,\n",
              "  <matplotlib.lines.Line2D at 0x7f60d6b58df0>,\n",
              "  <matplotlib.lines.Line2D at 0x7f60d6b702b0>,\n",
              "  <matplotlib.lines.Line2D at 0x7f60d6b70610>,\n",
              "  <matplotlib.lines.Line2D at 0x7f60d6b7ba90>,\n",
              "  <matplotlib.lines.Line2D at 0x7f60d6b7bdf0>,\n",
              "  <matplotlib.lines.Line2D at 0x7f60d6b932b0>,\n",
              "  <matplotlib.lines.Line2D at 0x7f60d6b93610>,\n",
              "  <matplotlib.lines.Line2D at 0x7f60d6b1da90>,\n",
              "  <matplotlib.lines.Line2D at 0x7f60d6b1ddf0>,\n",
              "  <matplotlib.lines.Line2D at 0x7f60d6b352b0>,\n",
              "  <matplotlib.lines.Line2D at 0x7f60d6b35610>,\n",
              "  <matplotlib.lines.Line2D at 0x7f60d6b41a90>,\n",
              "  <matplotlib.lines.Line2D at 0x7f60d6b41df0>,\n",
              "  <matplotlib.lines.Line2D at 0x7f60d6ad82e0>,\n",
              "  <matplotlib.lines.Line2D at 0x7f60d6ad8640>,\n",
              "  <matplotlib.lines.Line2D at 0x7f60d6ae3b50>,\n",
              "  <matplotlib.lines.Line2D at 0x7f60d6ae3eb0>,\n",
              "  <matplotlib.lines.Line2D at 0x7f60d6afe460>,\n",
              "  <matplotlib.lines.Line2D at 0x7f60d6afe790>,\n",
              "  <matplotlib.lines.Line2D at 0x7f60d6b0ad30>,\n",
              "  <matplotlib.lines.Line2D at 0x7f60d6a980d0>,\n",
              "  <matplotlib.lines.Line2D at 0x7f60d6aa5550>,\n",
              "  <matplotlib.lines.Line2D at 0x7f60d6aa58b0>,\n",
              "  <matplotlib.lines.Line2D at 0x7f60d6ab0d30>,\n",
              "  <matplotlib.lines.Line2D at 0x7f60d6abd0d0>,\n",
              "  <matplotlib.lines.Line2D at 0x7f60d6ac9400>,\n",
              "  <matplotlib.lines.Line2D at 0x7f60d6ac9760>,\n",
              "  <matplotlib.lines.Line2D at 0x7f60d6ad4ac0>,\n",
              "  <matplotlib.lines.Line2D at 0x7f60d6ad4dc0>,\n",
              "  <matplotlib.lines.Line2D at 0x7f60d6a6b2b0>,\n",
              "  <matplotlib.lines.Line2D at 0x7f60d6a6b610>,\n",
              "  <matplotlib.lines.Line2D at 0x7f60d6a79a90>,\n",
              "  <matplotlib.lines.Line2D at 0x7f60d6a79df0>,\n",
              "  <matplotlib.lines.Line2D at 0x7f60d6a8c2b0>,\n",
              "  <matplotlib.lines.Line2D at 0x7f60d6a8c610>,\n",
              "  <matplotlib.lines.Line2D at 0x7f60d6a19a90>,\n",
              "  <matplotlib.lines.Line2D at 0x7f60d6a19df0>,\n",
              "  <matplotlib.lines.Line2D at 0x7f60d6a302b0>,\n",
              "  <matplotlib.lines.Line2D at 0x7f60d6a30610>,\n",
              "  <matplotlib.lines.Line2D at 0x7f60d6a3ca90>,\n",
              "  <matplotlib.lines.Line2D at 0x7f60d6a3cdf0>,\n",
              "  <matplotlib.lines.Line2D at 0x7f60d6a522b0>,\n",
              "  <matplotlib.lines.Line2D at 0x7f60d6a52610>,\n",
              "  <matplotlib.lines.Line2D at 0x7f60d69dfa90>,\n",
              "  <matplotlib.lines.Line2D at 0x7f60d69dfdf0>],\n",
              " 'boxes': [<matplotlib.lines.Line2D at 0x7f60d6c527f0>,\n",
              "  <matplotlib.lines.Line2D at 0x7f60d6bf2040>,\n",
              "  <matplotlib.lines.Line2D at 0x7f60d6bfd820>,\n",
              "  <matplotlib.lines.Line2D at 0x7f60d6c14070>,\n",
              "  <matplotlib.lines.Line2D at 0x7f60d6ba0850>,\n",
              "  <matplotlib.lines.Line2D at 0x7f60d6bb5070>,\n",
              "  <matplotlib.lines.Line2D at 0x7f60d6bc2850>,\n",
              "  <matplotlib.lines.Line2D at 0x7f60d6b58070>,\n",
              "  <matplotlib.lines.Line2D at 0x7f60d6b64850>,\n",
              "  <matplotlib.lines.Line2D at 0x7f60d6b7b070>,\n",
              "  <matplotlib.lines.Line2D at 0x7f60d6b86850>,\n",
              "  <matplotlib.lines.Line2D at 0x7f60d6b1d070>,\n",
              "  <matplotlib.lines.Line2D at 0x7f60d6b2a850>,\n",
              "  <matplotlib.lines.Line2D at 0x7f60d6b41070>,\n",
              "  <matplotlib.lines.Line2D at 0x7f60d6b4d880>,\n",
              "  <matplotlib.lines.Line2D at 0x7f60d6ae3130>,\n",
              "  <matplotlib.lines.Line2D at 0x7f60d6af0970>,\n",
              "  <matplotlib.lines.Line2D at 0x7f60d6b0a250>,\n",
              "  <matplotlib.lines.Line2D at 0x7f60d6a98af0>,\n",
              "  <matplotlib.lines.Line2D at 0x7f60d6ab0310>,\n",
              "  <matplotlib.lines.Line2D at 0x7f60d6abda00>,\n",
              "  <matplotlib.lines.Line2D at 0x7f60d6ad4100>,\n",
              "  <matplotlib.lines.Line2D at 0x7f60d6a61850>,\n",
              "  <matplotlib.lines.Line2D at 0x7f60d6a79070>,\n",
              "  <matplotlib.lines.Line2D at 0x7f60d6a82850>,\n",
              "  <matplotlib.lines.Line2D at 0x7f60d6a19070>,\n",
              "  <matplotlib.lines.Line2D at 0x7f60d6a25850>,\n",
              "  <matplotlib.lines.Line2D at 0x7f60d6a3c070>,\n",
              "  <matplotlib.lines.Line2D at 0x7f60d6a4a850>,\n",
              "  <matplotlib.lines.Line2D at 0x7f60d69df070>],\n",
              " 'medians': [<matplotlib.lines.Line2D at 0x7f60d6be6910>,\n",
              "  <matplotlib.lines.Line2D at 0x7f60d6bfd160>,\n",
              "  <matplotlib.lines.Line2D at 0x7f60d6c07970>,\n",
              "  <matplotlib.lines.Line2D at 0x7f60d6ba0190>,\n",
              "  <matplotlib.lines.Line2D at 0x7f60d6ba9970>,\n",
              "  <matplotlib.lines.Line2D at 0x7f60d6bc2190>,\n",
              "  <matplotlib.lines.Line2D at 0x7f60d6bcc970>,\n",
              "  <matplotlib.lines.Line2D at 0x7f60d6b64190>,\n",
              "  <matplotlib.lines.Line2D at 0x7f60d6b70970>,\n",
              "  <matplotlib.lines.Line2D at 0x7f60d6b86190>,\n",
              "  <matplotlib.lines.Line2D at 0x7f60d6b93970>,\n",
              "  <matplotlib.lines.Line2D at 0x7f60d6b2a190>,\n",
              "  <matplotlib.lines.Line2D at 0x7f60d6b35970>,\n",
              "  <matplotlib.lines.Line2D at 0x7f60d6b4d190>,\n",
              "  <matplotlib.lines.Line2D at 0x7f60d6ad89a0>,\n",
              "  <matplotlib.lines.Line2D at 0x7f60d6af02e0>,\n",
              "  <matplotlib.lines.Line2D at 0x7f60d6afeaf0>,\n",
              "  <matplotlib.lines.Line2D at 0x7f60d6a98430>,\n",
              "  <matplotlib.lines.Line2D at 0x7f60d6aa5c10>,\n",
              "  <matplotlib.lines.Line2D at 0x7f60d6abd430>,\n",
              "  <matplotlib.lines.Line2D at 0x7f60d6ac9ac0>,\n",
              "  <matplotlib.lines.Line2D at 0x7f60d6a61160>,\n",
              "  <matplotlib.lines.Line2D at 0x7f60d6a6b970>,\n",
              "  <matplotlib.lines.Line2D at 0x7f60d6a82190>,\n",
              "  <matplotlib.lines.Line2D at 0x7f60d6a8c970>,\n",
              "  <matplotlib.lines.Line2D at 0x7f60d6a25190>,\n",
              "  <matplotlib.lines.Line2D at 0x7f60d6a30970>,\n",
              "  <matplotlib.lines.Line2D at 0x7f60d6a4a190>,\n",
              "  <matplotlib.lines.Line2D at 0x7f60d6a52970>,\n",
              "  <matplotlib.lines.Line2D at 0x7f60d69ea190>],\n",
              " 'fliers': [<matplotlib.lines.Line2D at 0x7f60d6be6c40>,\n",
              "  <matplotlib.lines.Line2D at 0x7f60d6bfd460>,\n",
              "  <matplotlib.lines.Line2D at 0x7f60d6c07c70>,\n",
              "  <matplotlib.lines.Line2D at 0x7f60d6ba0490>,\n",
              "  <matplotlib.lines.Line2D at 0x7f60d6ba9c70>,\n",
              "  <matplotlib.lines.Line2D at 0x7f60d6bc2490>,\n",
              "  <matplotlib.lines.Line2D at 0x7f60d6bccc70>,\n",
              "  <matplotlib.lines.Line2D at 0x7f60d6b64490>,\n",
              "  <matplotlib.lines.Line2D at 0x7f60d6b70c70>,\n",
              "  <matplotlib.lines.Line2D at 0x7f60d6b86490>,\n",
              "  <matplotlib.lines.Line2D at 0x7f60d6b93c70>,\n",
              "  <matplotlib.lines.Line2D at 0x7f60d6b2a490>,\n",
              "  <matplotlib.lines.Line2D at 0x7f60d6b35c70>,\n",
              "  <matplotlib.lines.Line2D at 0x7f60d6b4d4c0>,\n",
              "  <matplotlib.lines.Line2D at 0x7f60d6ad8d30>,\n",
              "  <matplotlib.lines.Line2D at 0x7f60d6af05e0>,\n",
              "  <matplotlib.lines.Line2D at 0x7f60d6afee80>,\n",
              "  <matplotlib.lines.Line2D at 0x7f60d6a98730>,\n",
              "  <matplotlib.lines.Line2D at 0x7f60d6aa5f10>,\n",
              "  <matplotlib.lines.Line2D at 0x7f60d6abd6d0>,\n",
              "  <matplotlib.lines.Line2D at 0x7f60d6ac9d60>,\n",
              "  <matplotlib.lines.Line2D at 0x7f60d6a61460>,\n",
              "  <matplotlib.lines.Line2D at 0x7f60d6a6bc70>,\n",
              "  <matplotlib.lines.Line2D at 0x7f60d6a82490>,\n",
              "  <matplotlib.lines.Line2D at 0x7f60d6a8cc70>,\n",
              "  <matplotlib.lines.Line2D at 0x7f60d6a25490>,\n",
              "  <matplotlib.lines.Line2D at 0x7f60d6a30c70>,\n",
              "  <matplotlib.lines.Line2D at 0x7f60d6a4a490>,\n",
              "  <matplotlib.lines.Line2D at 0x7f60d6a52c70>,\n",
              "  <matplotlib.lines.Line2D at 0x7f60d69ea490>],\n",
              " 'means': []}"
            ]
          },
          "metadata": {},
          "execution_count": 20
        },
        {
          "output_type": "display_data",
          "data": {
            "text/plain": [
              "<Figure size 432x288 with 1 Axes>"
            ],
            "image/png": "[encoded data removed]"
          },
          "metadata": {
            "needs_background": "light"
          }
        }
      ]
    },
    {
      "cell_type": "code",
      "source": [
        "sns.boxplot(x_scaled)"
      ],
      "metadata": {
        "colab": {
          "base_uri": "https://localhost:8080/",
          "height": 336
        },
        "id": "wUpLjcfisIWb",
        "outputId": "f2d7facd-0156-46fe-86f0-77bd2eb365c7"
      },
      "execution_count": 21,
      "outputs": [
        {
          "output_type": "stream",
          "name": "stderr",
          "text": [
            "/usr/local/lib/python3.8/dist-packages/seaborn/_decorators.py:36: FutureWarning: Pass the following variable as a keyword arg: x. From version 0.12, the only valid positional argument will be `data`, and passing other arguments without an explicit keyword will result in an error or misinterpretation.\n",
            "  warnings.warn(\n"
          ]
        },
        {
          "output_type": "execute_result",
          "data": {
            "text/plain": [
              "<matplotlib.axes._subplots.AxesSubplot at 0x7f60d6927be0>"
            ]
          },
          "metadata": {},
          "execution_count": 21
        },
        {
          "output_type": "display_data",
          "data": {
            "text/plain": [
              "<Figure size 432x288 with 1 Axes>"
            ],
            "image/png": "[encoded data removed]"
          },
          "metadata": {
            "needs_background": "light"
          }
        }
      ]
    },
    {
      "cell_type": "code",
      "source": [
        "from sklearn.model_selection import train_test_split\n",
        "x_train,x_test,y_train,y_test=train_test_split(x_scaled,y_data,test_size=0.2,random_state=15)"
      ],
      "metadata": {
        "id": "m9UyUJkVsIZB"
      },
      "execution_count": 22,
      "outputs": []
    },
    {
      "cell_type": "code",
      "source": [
        "from sklearn.linear_model import LogisticRegression\n",
        "l1=LogisticRegression()\n",
        "l1.fit(x_train,y_train)"
      ],
      "metadata": {
        "colab": {
          "base_uri": "https://localhost:8080/"
        },
        "id": "Vr5XlD8gsIcV",
        "outputId": "7eeca66d-e9cd-457a-9b8d-20d40abe8eab"
      },
      "execution_count": 23,
      "outputs": [
        {
          "output_type": "execute_result",
          "data": {
            "text/plain": [
              "LogisticRegression()"
            ]
          },
          "metadata": {},
          "execution_count": 23
        }
      ]
    },
    {
      "cell_type": "code",
      "source": [
        "y_pred=l1.predict(x_test)\n",
        "y_pred"
      ],
      "metadata": {
        "colab": {
          "base_uri": "https://localhost:8080/"
        },
        "id": "l7uhccnNsXlP",
        "outputId": "c8833b40-dcf4-4225-efe8-92dbc9842c70"
      },
      "execution_count": 24,
      "outputs": [
        {
          "output_type": "execute_result",
          "data": {
            "text/plain": [
              "array([0, 1, 1, 0, 0, 0, 0, 1, 0, 1, 0, 0, 0, 0, 0, 1, 0, 0, 1, 0, 1, 1,\n",
              "       0, 1, 0, 0, 0, 0, 0, 1, 1, 1, 0, 0, 1, 0, 0, 0, 0, 1, 1, 1, 0, 0,\n",
              "       0, 1, 1, 1, 0, 1, 0, 0, 0, 1, 0, 0, 1, 0, 1, 1, 0, 1, 1, 1, 0, 0,\n",
              "       0, 1, 1, 1, 0, 1, 0, 1, 0, 1, 1, 1, 1, 1, 0, 1, 1, 0, 1, 1, 0, 0,\n",
              "       1, 0, 1, 1, 0, 0, 0, 1, 0, 1, 0, 1, 1, 1, 1, 0, 1, 1, 1, 1, 0, 1,\n",
              "       0, 1, 0, 0, 1, 1, 0, 1, 1, 1, 0, 1, 1, 0, 0, 0, 0, 0, 1, 1, 0, 0,\n",
              "       1, 1, 0, 1, 1, 1, 0, 0, 1, 0, 1])"
            ]
          },
          "metadata": {},
          "execution_count": 24
        }
      ]
    },
    {
      "cell_type": "code",
      "source": [
        "from sklearn.metrics import accuracy_score\n",
        "A1=accuracy_score(y_test,y_pred)*100\n",
        "A1"
      ],
      "metadata": {
        "colab": {
          "base_uri": "https://localhost:8080/"
        },
        "id": "cb96jdLQsXye",
        "outputId": "7d326a94-164b-4a7f-9809-8a318ce0ff9e"
      },
      "execution_count": 25,
      "outputs": [
        {
          "output_type": "execute_result",
          "data": {
            "text/plain": [
              "97.9020979020979"
            ]
          },
          "metadata": {},
          "execution_count": 25
        }
      ]
    },
    {
      "cell_type": "code",
      "source": [
        "from sklearn.neighbors import KNeighborsClassifier\n",
        "knn=KNeighborsClassifier(n_neighbors=5,metric='minkowski',p=1)\n",
        "knn.fit(x_train,y_train)"
      ],
      "metadata": {
        "colab": {
          "base_uri": "https://localhost:8080/"
        },
        "id": "-AFRyeThsX1E",
        "outputId": "5dda0501-cf4f-423c-f7b9-ce39e68961fb"
      },
      "execution_count": 26,
      "outputs": [
        {
          "output_type": "execute_result",
          "data": {
            "text/plain": [
              "KNeighborsClassifier(p=1)"
            ]
          },
          "metadata": {},
          "execution_count": 26
        }
      ]
    },
    {
      "cell_type": "code",
      "source": [
        "knn_pred=knn.predict(x_test)\n",
        "knn_pred"
      ],
      "metadata": {
        "colab": {
          "base_uri": "https://localhost:8080/"
        },
        "id": "53oW8tRNsX39",
        "outputId": "afc728af-88f0-4001-8d27-230ec6e754f3"
      },
      "execution_count": 27,
      "outputs": [
        {
          "output_type": "execute_result",
          "data": {
            "text/plain": [
              "array([0, 1, 1, 0, 0, 0, 0, 1, 0, 1, 0, 0, 0, 0, 0, 1, 0, 0, 1, 0, 1, 1,\n",
              "       0, 1, 0, 0, 0, 0, 0, 1, 0, 1, 0, 0, 1, 0, 0, 0, 0, 1, 1, 1, 0, 0,\n",
              "       0, 1, 0, 1, 0, 1, 0, 0, 0, 1, 1, 0, 0, 0, 1, 1, 0, 1, 0, 1, 0, 0,\n",
              "       0, 1, 1, 1, 0, 1, 0, 1, 0, 1, 1, 1, 1, 1, 0, 1, 1, 0, 1, 1, 0, 0,\n",
              "       1, 0, 1, 1, 0, 0, 0, 1, 0, 1, 0, 1, 1, 0, 1, 0, 1, 1, 1, 1, 0, 1,\n",
              "       0, 1, 0, 0, 1, 1, 0, 1, 1, 1, 0, 1, 1, 0, 0, 0, 0, 0, 1, 1, 0, 0,\n",
              "       1, 1, 0, 1, 1, 1, 0, 0, 1, 0, 1])"
            ]
          },
          "metadata": {},
          "execution_count": 27
        }
      ]
    },
    {
      "cell_type": "code",
      "source": [
        "A2=accuracy_score(y_test,knn_pred)*100\n",
        "A2"
      ],
      "metadata": {
        "colab": {
          "base_uri": "https://localhost:8080/"
        },
        "id": "vo-IpdTPsX6v",
        "outputId": "a28ac2d2-6366-4867-d831-c5615aee4770"
      },
      "execution_count": 28,
      "outputs": [
        {
          "output_type": "execute_result",
          "data": {
            "text/plain": [
              "96.5034965034965"
            ]
          },
          "metadata": {},
          "execution_count": 28
        }
      ]
    },
    {
      "cell_type": "code",
      "source": [
        "from sklearn.ensemble import RandomForestClassifier\n",
        "rfc=RandomForestClassifier()\n",
        "rfc.fit(x_train,y_train)"
      ],
      "metadata": {
        "colab": {
          "base_uri": "https://localhost:8080/"
        },
        "id": "_vzTRF-dtNAU",
        "outputId": "e63041c1-de20-48e4-d171-ecdb9ee4a895"
      },
      "execution_count": 29,
      "outputs": [
        {
          "output_type": "execute_result",
          "data": {
            "text/plain": [
              "RandomForestClassifier()"
            ]
          },
          "metadata": {},
          "execution_count": 29
        }
      ]
    },
    {
      "cell_type": "code",
      "source": [
        "rfc_pred=rfc.predict(x_test)\n",
        "rfc_pred"
      ],
      "metadata": {
        "colab": {
          "base_uri": "https://localhost:8080/"
        },
        "id": "Y4ai2gxetNCz",
        "outputId": "05dcb17e-1090-46b1-a903-05684066bfcc"
      },
      "execution_count": 30,
      "outputs": [
        {
          "output_type": "execute_result",
          "data": {
            "text/plain": [
              "array([0, 1, 1, 0, 0, 1, 0, 1, 0, 1, 0, 0, 0, 0, 0, 1, 0, 0, 0, 0, 1, 1,\n",
              "       0, 1, 0, 0, 0, 0, 0, 1, 0, 1, 0, 0, 1, 0, 0, 0, 0, 1, 1, 1, 0, 0,\n",
              "       0, 1, 0, 1, 0, 1, 0, 0, 0, 1, 0, 0, 1, 0, 1, 1, 0, 1, 0, 1, 0, 0,\n",
              "       0, 1, 0, 1, 0, 1, 0, 1, 0, 1, 1, 1, 1, 1, 0, 1, 1, 0, 1, 1, 0, 0,\n",
              "       1, 0, 1, 1, 0, 0, 0, 1, 0, 1, 0, 1, 1, 0, 1, 0, 1, 1, 1, 1, 1, 1,\n",
              "       0, 1, 0, 0, 1, 1, 0, 1, 1, 1, 0, 1, 1, 0, 0, 0, 0, 0, 1, 1, 0, 1,\n",
              "       1, 1, 0, 1, 1, 1, 0, 1, 1, 0, 0])"
            ]
          },
          "metadata": {},
          "execution_count": 30
        }
      ]
    },
    {
      "cell_type": "code",
      "source": [
        "A3=accuracy_score(y_test,rfc_pred)*100\n",
        "A3"
      ],
      "metadata": {
        "colab": {
          "base_uri": "https://localhost:8080/"
        },
        "id": "SC1vpWTftNFO",
        "outputId": "ffef6bef-5d5f-4c8d-dbb8-ac1b11be113d"
      },
      "execution_count": 31,
      "outputs": [
        {
          "output_type": "execute_result",
          "data": {
            "text/plain": [
              "93.00699300699301"
            ]
          },
          "metadata": {},
          "execution_count": 31
        }
      ]
    },
    {
      "cell_type": "code",
      "source": [
        "from sklearn.tree import DecisionTreeClassifier\n",
        "dt=DecisionTreeClassifier(criterion = \"entropy\",random_state=20)\n",
        "dt.fit(x_train,y_train)"
      ],
      "metadata": {
        "colab": {
          "base_uri": "https://localhost:8080/"
        },
        "id": "8lGzS6fAtNIX",
        "outputId": "dde6be54-a727-4699-a478-965261b7af51"
      },
      "execution_count": 32,
      "outputs": [
        {
          "output_type": "execute_result",
          "data": {
            "text/plain": [
              "DecisionTreeClassifier(criterion='entropy', random_state=20)"
            ]
          },
          "metadata": {},
          "execution_count": 32
        }
      ]
    },
    {
      "cell_type": "code",
      "source": [
        "dt_pred=dt.predict(x_test)\n",
        "dt_pred"
      ],
      "metadata": {
        "colab": {
          "base_uri": "https://localhost:8080/"
        },
        "id": "_Aa-tLEKtd9O",
        "outputId": "db31c67d-13de-4453-c2c8-3033aac52a9f"
      },
      "execution_count": 33,
      "outputs": [
        {
          "output_type": "execute_result",
          "data": {
            "text/plain": [
              "array([0, 1, 1, 0, 0, 0, 1, 1, 0, 1, 0, 0, 0, 0, 0, 1, 0, 0, 0, 0, 1, 1,\n",
              "       0, 1, 0, 1, 0, 0, 0, 1, 0, 1, 0, 0, 1, 0, 0, 0, 0, 1, 1, 1, 0, 0,\n",
              "       0, 1, 1, 1, 0, 1, 0, 0, 0, 1, 1, 0, 0, 0, 1, 1, 0, 1, 0, 1, 0, 0,\n",
              "       0, 1, 1, 1, 0, 1, 0, 1, 0, 1, 1, 1, 1, 1, 0, 1, 1, 0, 1, 1, 0, 0,\n",
              "       1, 0, 1, 1, 0, 0, 0, 1, 0, 1, 0, 1, 1, 0, 1, 0, 1, 1, 1, 1, 0, 1,\n",
              "       0, 1, 0, 1, 1, 1, 0, 1, 1, 1, 0, 1, 1, 0, 0, 0, 0, 0, 1, 1, 0, 0,\n",
              "       1, 1, 1, 1, 1, 1, 0, 0, 1, 0, 0])"
            ]
          },
          "metadata": {},
          "execution_count": 33
        }
      ]
    },
    {
      "cell_type": "code",
      "source": [
        "A4=accuracy_score(y_test,dt_pred)*100\n",
        "A4"
      ],
      "metadata": {
        "colab": {
          "base_uri": "https://localhost:8080/"
        },
        "id": "kUtbX7Zftd_O",
        "outputId": "b0e7ebfc-3a4b-4945-93cf-7c8b47bb34a9"
      },
      "execution_count": 34,
      "outputs": [
        {
          "output_type": "execute_result",
          "data": {
            "text/plain": [
              "93.00699300699301"
            ]
          },
          "metadata": {},
          "execution_count": 34
        }
      ]
    },
    {
      "cell_type": "code",
      "source": [
        "Avg_accuracy=(A1+A2+A3+A4)/4\n",
        "Avg_accuracy"
      ],
      "metadata": {
        "colab": {
          "base_uri": "https://localhost:8080/"
        },
        "id": "rscUzcnsteCs",
        "outputId": "6d5893a4-b328-489c-e0f0-2fea6e6d5761"
      },
      "execution_count": 36,
      "outputs": [
        {
          "output_type": "execute_result",
          "data": {
            "text/plain": [
              "95.1048951048951"
            ]
          },
          "metadata": {},
          "execution_count": 36
        }
      ]
    },
    {
      "cell_type": "code",
      "source": [
        "print(Counter(y_train))"
      ],
      "metadata": {
        "colab": {
          "base_uri": "https://localhost:8080/"
        },
        "id": "xrVknR4JteFv",
        "outputId": "17850c19-78f1-4b05-e92f-0b4dba20246d"
      },
      "execution_count": 37,
      "outputs": [
        {
          "output_type": "stream",
          "name": "stdout",
          "text": [
            "Counter({1: 286, 0: 285})\n"
          ]
        }
      ]
    },
    {
      "cell_type": "code",
      "source": [
        "print(Counter(y_test))"
      ],
      "metadata": {
        "colab": {
          "base_uri": "https://localhost:8080/"
        },
        "id": "dv09_yxxteIc",
        "outputId": "d5ed9397-c47e-415e-a37a-3ee52164b0d6"
      },
      "execution_count": 38,
      "outputs": [
        {
          "output_type": "stream",
          "name": "stdout",
          "text": [
            "Counter({0: 72, 1: 71})\n"
          ]
        }
      ]
    },
    {
      "cell_type": "code",
      "source": [
        "from sklearn.model_selection import StratifiedKFold\n",
        "skf=StratifiedKFold(n_splits=5,shuffle=True,random_state=20)\n",
        "skf.split(x_scaled,y_data)\n",
        "print(skf)"
      ],
      "metadata": {
        "colab": {
          "base_uri": "https://localhost:8080/"
        },
        "id": "g4MXZe_6tvNd",
        "outputId": "dde9b05c-37a5-4ffb-fcd9-486376a4fddd"
      },
      "execution_count": 39,
      "outputs": [
        {
          "output_type": "stream",
          "name": "stdout",
          "text": [
            "StratifiedKFold(n_splits=5, random_state=20, shuffle=True)\n"
          ]
        }
      ]
    },
    {
      "cell_type": "code",
      "source": [
        "from sklearn.model_selection import cross_val_score\n",
        "from sklearn.model_selection import cross_val_predict\n",
        "y_pred1=cross_val_predict(l1,x_test,y_test,cv=skf)\n",
        "score1=cross_val_score(l1,x_train,y_train,cv=skf)\n",
        "print(y_pred1)\n",
        "print(score1)\n",
        "AA1=print(score1.mean()*100)\n",
        "AA1"
      ],
      "metadata": {
        "colab": {
          "base_uri": "https://localhost:8080/"
        },
        "id": "8W0FCNZQtvP7",
        "outputId": "4e4132b2-49ae-4353-d487-24d7b2a207cd"
      },
      "execution_count": 40,
      "outputs": [
        {
          "output_type": "stream",
          "name": "stdout",
          "text": [
            "[0 1 1 0 0 0 1 1 0 1 0 0 0 0 0 1 0 0 1 0 1 1 0 1 0 0 0 0 0 1 0 1 0 0 1 0 0\n",
            " 0 0 1 1 0 0 0 0 1 0 1 0 1 0 0 0 1 0 0 1 0 1 1 0 1 1 1 0 0 0 1 1 1 0 1 0 1\n",
            " 0 1 1 1 1 1 0 1 1 0 1 1 0 0 1 0 1 1 0 0 0 1 0 1 0 1 1 1 1 1 1 1 1 1 0 1 0\n",
            " 1 0 0 1 1 0 1 1 1 0 1 1 0 0 0 0 0 1 1 0 0 1 1 0 1 1 1 0 0 1 0 1]\n",
            "[0.97391304 0.98245614 0.98245614 0.97368421 0.98245614]\n",
            "97.89931350114416\n"
          ]
        }
      ]
    },
    {
      "cell_type": "code",
      "source": [
        "y_pred2=cross_val_predict(knn,x_test,y_test,cv=skf)\n",
        "score2=cross_val_score(knn,x_train,y_train,cv=skf)\n",
        "print(y_pred2)\n",
        "print(score2)\n",
        "AA2=print(score2.mean()*100)\n",
        "AA2"
      ],
      "metadata": {
        "colab": {
          "base_uri": "https://localhost:8080/"
        },
        "id": "NAAlsj06tvSG",
        "outputId": "8a490297-1454-46c7-e29c-2b48d3534157"
      },
      "execution_count": 41,
      "outputs": [
        {
          "output_type": "stream",
          "name": "stdout",
          "text": [
            "[0 1 1 0 0 0 0 1 0 1 0 0 0 0 0 1 0 0 1 0 1 1 0 1 0 0 0 0 0 1 0 1 0 0 1 0 0\n",
            " 0 0 1 1 0 0 0 0 1 0 1 0 1 0 0 0 1 0 0 0 0 1 1 0 1 0 1 0 0 0 1 0 1 0 1 0 1\n",
            " 0 1 1 1 1 1 0 1 1 0 1 1 0 0 1 0 1 1 0 0 0 1 0 1 0 1 1 0 1 0 1 1 1 1 0 1 0\n",
            " 1 0 0 1 1 0 1 1 1 0 1 1 0 0 0 0 0 1 1 0 0 1 1 0 1 1 1 0 0 1 0 1]\n",
            "[0.93913043 0.98245614 0.98245614 0.97368421 0.97368421]\n",
            "97.0282227307399\n"
          ]
        }
      ]
    },
    {
      "cell_type": "code",
      "source": [
        "y_pred3=cross_val_predict(rfc,x_test,y_test,cv=skf)\n",
        "score3=cross_val_score(rfc,x_train,y_train,cv=skf)\n",
        "print(y_pred3)\n",
        "print(score3)\n",
        "AA3=print(score3.mean()*100)\n",
        "AA3"
      ],
      "metadata": {
        "colab": {
          "base_uri": "https://localhost:8080/"
        },
        "id": "ImPpIJyitvVa",
        "outputId": "29da7027-4160-42fb-8839-567adb6b5c19"
      },
      "execution_count": 42,
      "outputs": [
        {
          "output_type": "stream",
          "name": "stdout",
          "text": [
            "[0 1 1 0 0 1 0 1 0 1 0 0 0 0 0 1 0 0 1 0 1 1 0 1 0 0 0 0 0 1 0 1 0 0 1 0 0\n",
            " 0 0 1 1 1 0 0 0 1 0 1 0 1 0 0 0 1 0 0 0 0 1 1 0 1 0 0 0 0 0 1 0 1 0 1 0 1\n",
            " 0 1 1 1 1 1 0 1 1 0 1 1 0 0 1 0 1 1 0 0 0 1 0 1 1 1 1 0 1 0 1 1 1 1 1 1 0\n",
            " 1 0 0 1 1 0 1 1 1 0 1 1 0 0 0 0 0 1 1 0 0 1 1 0 1 1 1 0 0 1 0 1]\n",
            "[0.93043478 0.97368421 0.98245614 0.97368421 0.97368421]\n",
            "96.67887109077041\n"
          ]
        }
      ]
    },
    {
      "cell_type": "code",
      "source": [
        "y_pred4=cross_val_predict(dt,x_test,y_test,cv=skf)\n",
        "score4=cross_val_score(dt,x_train,y_train,cv=skf)\n",
        "print(y_pred4)\n",
        "print(score4)\n",
        "AA4=print(score4.mean()*100)\n",
        "AA4"
      ],
      "metadata": {
        "colab": {
          "base_uri": "https://localhost:8080/"
        },
        "id": "XAE-1ryEuBzq",
        "outputId": "f711543d-7263-4604-9387-b67c7ac420d9"
      },
      "execution_count": 43,
      "outputs": [
        {
          "output_type": "stream",
          "name": "stdout",
          "text": [
            "[0 1 1 0 1 1 1 1 0 1 0 0 0 0 0 1 0 0 1 0 1 1 0 1 0 0 0 0 0 1 0 1 1 0 1 0 0\n",
            " 1 0 1 1 0 0 0 0 1 0 1 0 1 0 0 0 1 0 0 0 0 1 1 0 1 0 0 0 1 0 1 0 1 0 1 0 1\n",
            " 0 1 1 1 1 1 0 1 1 0 1 1 0 0 1 0 1 1 0 0 0 1 0 1 1 1 1 0 1 0 1 1 1 1 0 1 0\n",
            " 1 0 0 1 1 0 0 1 1 0 0 1 0 0 0 0 1 1 1 0 0 1 1 1 1 1 1 0 0 1 0 1]\n",
            "[0.89565217 0.94736842 0.95614035 0.95614035 0.95614035]\n",
            "94.22883295194508\n"
          ]
        }
      ]
    },
    {
      "cell_type": "code",
      "source": [
        "CV_Final_Accuracy=(97.37604881769641+97.55301296720059+97.37604881769641+94.40122044241036)/4\n",
        "CV_Final_Accuracy"
      ],
      "metadata": {
        "colab": {
          "base_uri": "https://localhost:8080/"
        },
        "id": "l9M3Q-iKuB2I",
        "outputId": "50fd2341-9a62-4b27-d4e3-159810511c3a"
      },
      "execution_count": 44,
      "outputs": [
        {
          "output_type": "execute_result",
          "data": {
            "text/plain": [
              "96.67658276125094"
            ]
          },
          "metadata": {},
          "execution_count": 44
        }
      ]
    },
    {
      "cell_type": "code",
      "source": [
        "from sklearn.ensemble import VotingClassifier\n",
        "vc=VotingClassifier(estimators=[(\"Logistic Regression\",l1),(\"KNN\",knn),(\"Random Forest\",rfc),(\"Decision Tree\",dt)])\n",
        "vc.fit(x_train,y_train)"
      ],
      "metadata": {
        "colab": {
          "base_uri": "https://localhost:8080/"
        },
        "id": "3ZhqTumBuB4x",
        "outputId": "cfa9d801-6f35-4869-c6e2-bcc2f5a4bbbf"
      },
      "execution_count": 46,
      "outputs": [
        {
          "output_type": "execute_result",
          "data": {
            "text/plain": [
              "VotingClassifier(estimators=[('Logistic Regression', LogisticRegression()),\n",
              "                             ('KNN', KNeighborsClassifier(p=1)),\n",
              "                             ('Random Forest', RandomForestClassifier()),\n",
              "                             ('Decision Tree',\n",
              "                              DecisionTreeClassifier(criterion='entropy',\n",
              "                                                     random_state=20))])"
            ]
          },
          "metadata": {},
          "execution_count": 46
        }
      ]
    },
    {
      "cell_type": "code",
      "source": [
        "vc_pred=vc.predict(x_test)\n",
        "vc_pred"
      ],
      "metadata": {
        "colab": {
          "base_uri": "https://localhost:8080/"
        },
        "id": "PUqBV6jluB7X",
        "outputId": "e8f1e33f-7638-4f0e-e084-b2802c5539b5"
      },
      "execution_count": 47,
      "outputs": [
        {
          "output_type": "execute_result",
          "data": {
            "text/plain": [
              "array([0, 1, 1, 0, 0, 0, 0, 1, 0, 1, 0, 0, 0, 0, 0, 1, 0, 0, 0, 0, 1, 1,\n",
              "       0, 1, 0, 0, 0, 0, 0, 1, 0, 1, 0, 0, 1, 0, 0, 0, 0, 1, 1, 1, 0, 0,\n",
              "       0, 1, 0, 1, 0, 1, 0, 0, 0, 1, 1, 0, 0, 0, 1, 1, 0, 1, 0, 1, 0, 0,\n",
              "       0, 1, 1, 1, 0, 1, 0, 1, 0, 1, 1, 1, 1, 1, 0, 1, 1, 0, 1, 1, 0, 0,\n",
              "       1, 0, 1, 1, 0, 0, 0, 1, 0, 1, 0, 1, 1, 0, 1, 0, 1, 1, 1, 1, 0, 1,\n",
              "       0, 1, 0, 0, 1, 1, 0, 1, 1, 1, 0, 1, 1, 0, 0, 0, 0, 0, 1, 1, 0, 0,\n",
              "       1, 1, 0, 1, 1, 1, 0, 0, 1, 0, 0])"
            ]
          },
          "metadata": {},
          "execution_count": 47
        }
      ]
    },
    {
      "cell_type": "code",
      "source": [
        "Voting_accuracy=accuracy_score(y_test,vc_pred)\n",
        "Voting_accuracy*100"
      ],
      "metadata": {
        "colab": {
          "base_uri": "https://localhost:8080/"
        },
        "id": "JY_EcZ_puB9-",
        "outputId": "22119786-ec23-4f25-b916-b67ae96bf982"
      },
      "execution_count": 48,
      "outputs": [
        {
          "output_type": "execute_result",
          "data": {
            "text/plain": [
              "95.1048951048951"
            ]
          },
          "metadata": {},
          "execution_count": 48
        }
      ]
    },
    {
      "cell_type": "code",
      "source": [
        "ann=tf.keras.models.Sequential()\n",
        "ann"
      ],
      "metadata": {
        "colab": {
          "base_uri": "https://localhost:8080/"
        },
        "id": "2ldsCzituY6H",
        "outputId": "76186e10-c443-426a-b8bd-216d330a48cf"
      },
      "execution_count": 49,
      "outputs": [
        {
          "output_type": "execute_result",
          "data": {
            "text/plain": [
              "<keras.engine.sequential.Sequential at 0x7f60d68f2850>"
            ]
          },
          "metadata": {},
          "execution_count": 49
        }
      ]
    },
    {
      "cell_type": "code",
      "source": [
        "ann.add(tf.keras.layers.Dense(units=8,activation='relu')) #1st hidden layer i.e input layer\n",
        "ann.add(tf.keras.layers.Dense(units=8,activation='relu'))\n",
        "ann.add(tf.keras.layers.Dense(units=8,activation='relu'))\n",
        "ann.add(tf.keras.layers.Dense(units=8,activation='relu'))\n",
        "ann.add(tf.keras.layers.Dense(units=8,activation='relu'))\n",
        "ann.add(tf.keras.layers.Dense(units=8,activation='relu'))\n",
        "ann.add(tf.keras.layers.Dense(units=8,activation='relu'))\n",
        "ann.add(tf.keras.layers.Dense(units=8,activation='relu'))\n",
        "ann.add(tf.keras.layers.Dense(units=8,activation='relu'))\n",
        "ann.add(tf.keras.layers.Dense(units=8,activation='relu'))\n",
        "#Output Layer\n",
        "ann.add(tf.keras.layers.Dense(units=1,activation='sigmoid'))"
      ],
      "metadata": {
        "id": "tv57fA-kuY8f"
      },
      "execution_count": 50,
      "outputs": []
    },
    {
      "cell_type": "code",
      "source": [
        "ann.compile(optimizer='adam',loss='binary_crossentropy',metrics=['accuracy'])"
      ],
      "metadata": {
        "id": "xlBgKoPiuY-q"
      },
      "execution_count": 51,
      "outputs": []
    },
    {
      "cell_type": "code",
      "source": [
        "ann.fit(x_train,y_train,batch_size=30,epochs=50)"
      ],
      "metadata": {
        "colab": {
          "base_uri": "https://localhost:8080/"
        },
        "id": "HbULSG4OuZBR",
        "outputId": "756d4a2f-05af-44f1-d892-705395ded98c"
      },
      "execution_count": 52,
      "outputs": [
        {
          "output_type": "stream",
          "name": "stdout",
          "text": [
            "Epoch 1/50\n",
            "20/20 [==============================] - 4s 4ms/step - loss: 0.6925 - accuracy: 0.5289\n",
            "Epoch 2/50\n",
            "20/20 [==============================] - 0s 3ms/step - loss: 0.6803 - accuracy: 0.6830\n",
            "Epoch 3/50\n",
            "20/20 [==============================] - 0s 3ms/step - loss: 0.6381 - accuracy: 0.5009\n",
            "Epoch 4/50\n",
            "20/20 [==============================] - 0s 3ms/step - loss: 0.5282 - accuracy: 0.6252\n",
            "Epoch 5/50\n",
            "20/20 [==============================] - 0s 3ms/step - loss: 0.4289 - accuracy: 0.8984\n",
            "Epoch 6/50\n",
            "20/20 [==============================] - 0s 3ms/step - loss: 0.3900 - accuracy: 0.9317\n",
            "Epoch 7/50\n",
            "20/20 [==============================] - 0s 3ms/step - loss: 0.3656 - accuracy: 0.9510\n",
            "Epoch 8/50\n",
            "20/20 [==============================] - 0s 3ms/step - loss: 0.3426 - accuracy: 0.9632\n",
            "Epoch 9/50\n",
            "20/20 [==============================] - 0s 3ms/step - loss: 0.3246 - accuracy: 0.9580\n",
            "Epoch 10/50\n",
            "20/20 [==============================] - 0s 4ms/step - loss: 0.3017 - accuracy: 0.9702\n",
            "Epoch 11/50\n",
            "20/20 [==============================] - 0s 4ms/step - loss: 0.2744 - accuracy: 0.9737\n",
            "Epoch 12/50\n",
            "20/20 [==============================] - 0s 3ms/step - loss: 0.2413 - accuracy: 0.9772\n",
            "Epoch 13/50\n",
            "20/20 [==============================] - 0s 3ms/step - loss: 0.1971 - accuracy: 0.9790\n",
            "Epoch 14/50\n",
            "20/20 [==============================] - 0s 3ms/step - loss: 0.1406 - accuracy: 0.9825\n",
            "Epoch 15/50\n",
            "20/20 [==============================] - 0s 3ms/step - loss: 0.0933 - accuracy: 0.9825\n",
            "Epoch 16/50\n",
            "20/20 [==============================] - 0s 3ms/step - loss: 0.0662 - accuracy: 0.9860\n",
            "Epoch 17/50\n",
            "20/20 [==============================] - 0s 3ms/step - loss: 0.0555 - accuracy: 0.9877\n",
            "Epoch 18/50\n",
            "20/20 [==============================] - 0s 3ms/step - loss: 0.0507 - accuracy: 0.9877\n",
            "Epoch 19/50\n",
            "20/20 [==============================] - 0s 3ms/step - loss: 0.0491 - accuracy: 0.9895\n",
            "Epoch 20/50\n",
            "20/20 [==============================] - 0s 3ms/step - loss: 0.0469 - accuracy: 0.9895\n",
            "Epoch 21/50\n",
            "20/20 [==============================] - 0s 3ms/step - loss: 0.0449 - accuracy: 0.9895\n",
            "Epoch 22/50\n",
            "20/20 [==============================] - 0s 3ms/step - loss: 0.0431 - accuracy: 0.9877\n",
            "Epoch 23/50\n",
            "20/20 [==============================] - 0s 3ms/step - loss: 0.0425 - accuracy: 0.9895\n",
            "Epoch 24/50\n",
            "20/20 [==============================] - 0s 3ms/step - loss: 0.0412 - accuracy: 0.9895\n",
            "Epoch 25/50\n",
            "20/20 [==============================] - 0s 3ms/step - loss: 0.0397 - accuracy: 0.9912\n",
            "Epoch 26/50\n",
            "20/20 [==============================] - 0s 3ms/step - loss: 0.0383 - accuracy: 0.9895\n",
            "Epoch 27/50\n",
            "20/20 [==============================] - 0s 3ms/step - loss: 0.0376 - accuracy: 0.9895\n",
            "Epoch 28/50\n",
            "20/20 [==============================] - 0s 3ms/step - loss: 0.0370 - accuracy: 0.9912\n",
            "Epoch 29/50\n",
            "20/20 [==============================] - 0s 3ms/step - loss: 0.0370 - accuracy: 0.9895\n",
            "Epoch 30/50\n",
            "20/20 [==============================] - 0s 3ms/step - loss: 0.0349 - accuracy: 0.9912\n",
            "Epoch 31/50\n",
            "20/20 [==============================] - 0s 2ms/step - loss: 0.0343 - accuracy: 0.9895\n",
            "Epoch 32/50\n",
            "20/20 [==============================] - 0s 3ms/step - loss: 0.0329 - accuracy: 0.9895\n",
            "Epoch 33/50\n",
            "20/20 [==============================] - 0s 3ms/step - loss: 0.0317 - accuracy: 0.9895\n",
            "Epoch 34/50\n",
            "20/20 [==============================] - 0s 3ms/step - loss: 0.0288 - accuracy: 0.9895\n",
            "Epoch 35/50\n",
            "20/20 [==============================] - 0s 3ms/step - loss: 0.0250 - accuracy: 0.9912\n",
            "Epoch 36/50\n",
            "20/20 [==============================] - 0s 3ms/step - loss: 0.0209 - accuracy: 0.9947\n",
            "Epoch 37/50\n",
            "20/20 [==============================] - 0s 3ms/step - loss: 0.0209 - accuracy: 0.9930\n",
            "Epoch 38/50\n",
            "20/20 [==============================] - 0s 3ms/step - loss: 0.0178 - accuracy: 0.9947\n",
            "Epoch 39/50\n",
            "20/20 [==============================] - 0s 3ms/step - loss: 0.0172 - accuracy: 0.9947\n",
            "Epoch 40/50\n",
            "20/20 [==============================] - 0s 3ms/step - loss: 0.0589 - accuracy: 0.9825\n",
            "Epoch 41/50\n",
            "20/20 [==============================] - 0s 3ms/step - loss: 0.0347 - accuracy: 0.9877\n",
            "Epoch 42/50\n",
            "20/20 [==============================] - 0s 4ms/step - loss: 0.0325 - accuracy: 0.9895\n",
            "Epoch 43/50\n",
            "20/20 [==============================] - 0s 3ms/step - loss: 0.0283 - accuracy: 0.9912\n",
            "Epoch 44/50\n",
            "20/20 [==============================] - 0s 3ms/step - loss: 0.0249 - accuracy: 0.9912\n",
            "Epoch 45/50\n",
            "20/20 [==============================] - 0s 3ms/step - loss: 0.0236 - accuracy: 0.9912\n",
            "Epoch 46/50\n",
            "20/20 [==============================] - 0s 3ms/step - loss: 0.0211 - accuracy: 0.9912\n",
            "Epoch 47/50\n",
            "20/20 [==============================] - 0s 3ms/step - loss: 0.0248 - accuracy: 0.9895\n",
            "Epoch 48/50\n",
            "20/20 [==============================] - 0s 3ms/step - loss: 0.0215 - accuracy: 0.9912\n",
            "Epoch 49/50\n",
            "20/20 [==============================] - 0s 3ms/step - loss: 0.0208 - accuracy: 0.9912\n",
            "Epoch 50/50\n",
            "20/20 [==============================] - 0s 3ms/step - loss: 0.0187 - accuracy: 0.9912\n"
          ]
        },
        {
          "output_type": "execute_result",
          "data": {
            "text/plain": [
              "<keras.callbacks.History at 0x7f60d41ef370>"
            ]
          },
          "metadata": {},
          "execution_count": 52
        }
      ]
    },
    {
      "cell_type": "code",
      "source": [
        "ann_pred=ann.predict(x_test)\n",
        "ann_pred"
      ],
      "metadata": {
        "colab": {
          "base_uri": "https://localhost:8080/"
        },
        "id": "dNh1JmkQuZD4",
        "outputId": "e8cdb1a1-11c0-4f0c-e831-bc2b68c36f42"
      },
      "execution_count": 53,
      "outputs": [
        {
          "output_type": "stream",
          "name": "stdout",
          "text": [
            "5/5 [==============================] - 0s 4ms/step\n"
          ]
        },
        {
          "output_type": "execute_result",
          "data": {
            "text/plain": [
              "array([[1.3442387e-04],\n",
              "       [9.9903268e-01],\n",
              "       [9.9993849e-01],\n",
              "       [6.0510269e-05],\n",
              "       [7.5477967e-04],\n",
              "       [9.0669499e-05],\n",
              "       [8.2840270e-04],\n",
              "       [1.0000000e+00],\n",
              "       [3.6611345e-02],\n",
              "       [1.0000000e+00],\n",
              "       [1.1841300e-03],\n",
              "       [1.6966584e-04],\n",
              "       [5.9536792e-04],\n",
              "       [2.0512718e-05],\n",
              "       [5.7800888e-05],\n",
              "       [1.0000000e+00],\n",
              "       [3.8081412e-03],\n",
              "       [2.5372470e-05],\n",
              "       [9.9970227e-01],\n",
              "       [8.5945241e-04],\n",
              "       [1.0000000e+00],\n",
              "       [1.0000000e+00],\n",
              "       [6.9454341e-04],\n",
              "       [1.0000000e+00],\n",
              "       [1.0638330e-05],\n",
              "       [1.1511807e-03],\n",
              "       [4.0844729e-04],\n",
              "       [2.1068970e-04],\n",
              "       [1.6566194e-04],\n",
              "       [9.9999994e-01],\n",
              "       [1.2418580e-04],\n",
              "       [1.0000000e+00],\n",
              "       [4.1324217e-03],\n",
              "       [1.9788889e-03],\n",
              "       [9.9999934e-01],\n",
              "       [4.0486496e-04],\n",
              "       [2.2203603e-03],\n",
              "       [1.9084321e-03],\n",
              "       [3.5084222e-04],\n",
              "       [1.0000000e+00],\n",
              "       [1.0000000e+00],\n",
              "       [9.5255870e-01],\n",
              "       [6.4289066e-05],\n",
              "       [6.3382095e-04],\n",
              "       [4.6754274e-05],\n",
              "       [1.0000000e+00],\n",
              "       [9.3024844e-01],\n",
              "       [1.0000000e+00],\n",
              "       [3.8686070e-05],\n",
              "       [1.0000000e+00],\n",
              "       [1.9135663e-03],\n",
              "       [1.5861384e-04],\n",
              "       [1.9487991e-06],\n",
              "       [1.0000000e+00],\n",
              "       [8.3495253e-01],\n",
              "       [3.2035357e-04],\n",
              "       [1.4689459e-01],\n",
              "       [9.7975438e-04],\n",
              "       [1.0000000e+00],\n",
              "       [1.0000000e+00],\n",
              "       [2.6685291e-03],\n",
              "       [1.0000000e+00],\n",
              "       [7.5936702e-04],\n",
              "       [9.9993664e-01],\n",
              "       [2.8128788e-01],\n",
              "       [4.8438073e-03],\n",
              "       [5.4589515e-03],\n",
              "       [1.0000000e+00],\n",
              "       [9.9994290e-01],\n",
              "       [1.0000000e+00],\n",
              "       [3.3677265e-03],\n",
              "       [1.0000000e+00],\n",
              "       [2.1798295e-04],\n",
              "       [1.0000000e+00],\n",
              "       [1.0792507e-04],\n",
              "       [1.0000000e+00],\n",
              "       [1.0000000e+00],\n",
              "       [1.0000000e+00],\n",
              "       [1.0000000e+00],\n",
              "       [1.0000000e+00],\n",
              "       [1.7440527e-04],\n",
              "       [9.9996090e-01],\n",
              "       [1.0000000e+00],\n",
              "       [1.7872661e-03],\n",
              "       [1.0000000e+00],\n",
              "       [1.0000000e+00],\n",
              "       [7.1967015e-04],\n",
              "       [4.2611230e-03],\n",
              "       [1.0000000e+00],\n",
              "       [2.3431850e-04],\n",
              "       [1.0000000e+00],\n",
              "       [9.9997926e-01],\n",
              "       [5.4893142e-04],\n",
              "       [3.3958560e-05],\n",
              "       [1.7427694e-04],\n",
              "       [1.0000000e+00],\n",
              "       [3.3270384e-04],\n",
              "       [1.0000000e+00],\n",
              "       [1.3800425e-03],\n",
              "       [1.0000000e+00],\n",
              "       [1.0000000e+00],\n",
              "       [3.1217458e-03],\n",
              "       [1.0000000e+00],\n",
              "       [3.0374525e-03],\n",
              "       [1.0000000e+00],\n",
              "       [1.0000000e+00],\n",
              "       [1.0000000e+00],\n",
              "       [9.9996281e-01],\n",
              "       [8.3564207e-02],\n",
              "       [1.0000000e+00],\n",
              "       [1.1617709e-05],\n",
              "       [1.0000000e+00],\n",
              "       [3.3662478e-03],\n",
              "       [8.1086933e-04],\n",
              "       [1.0000000e+00],\n",
              "       [1.0000000e+00],\n",
              "       [1.5409838e-05],\n",
              "       [9.9999928e-01],\n",
              "       [1.0000000e+00],\n",
              "       [1.0000000e+00],\n",
              "       [1.8683672e-03],\n",
              "       [1.0000000e+00],\n",
              "       [1.0000000e+00],\n",
              "       [1.4815075e-04],\n",
              "       [1.0393229e-03],\n",
              "       [9.7453179e-05],\n",
              "       [1.6542099e-05],\n",
              "       [2.7801148e-03],\n",
              "       [9.9999619e-01],\n",
              "       [1.0000000e+00],\n",
              "       [8.4055128e-04],\n",
              "       [1.2174395e-07],\n",
              "       [1.0000000e+00],\n",
              "       [1.0000000e+00],\n",
              "       [4.2568552e-04],\n",
              "       [1.0000000e+00],\n",
              "       [1.0000000e+00],\n",
              "       [9.9999988e-01],\n",
              "       [7.2194147e-04],\n",
              "       [6.2065050e-03],\n",
              "       [1.0000000e+00],\n",
              "       [8.3534524e-06],\n",
              "       [9.9971938e-01]], dtype=float32)"
            ]
          },
          "metadata": {},
          "execution_count": 53
        }
      ]
    },
    {
      "cell_type": "code",
      "source": [
        "New_ann_pred=[]\n",
        "for x in ann_pred:\n",
        "    if x>=0.5:\n",
        "        New_ann_pred.append(1)\n",
        "    else:\n",
        "        New_ann_pred.append(0)\n",
        "print(New_ann_pred)"
      ],
      "metadata": {
        "colab": {
          "base_uri": "https://localhost:8080/"
        },
        "id": "0FQ5lVR1u132",
        "outputId": "bfb31a41-27a1-4dcb-b38b-2ea469ef8be8"
      },
      "execution_count": 54,
      "outputs": [
        {
          "output_type": "stream",
          "name": "stdout",
          "text": [
            "[0, 1, 1, 0, 0, 0, 0, 1, 0, 1, 0, 0, 0, 0, 0, 1, 0, 0, 1, 0, 1, 1, 0, 1, 0, 0, 0, 0, 0, 1, 0, 1, 0, 0, 1, 0, 0, 0, 0, 1, 1, 1, 0, 0, 0, 1, 1, 1, 0, 1, 0, 0, 0, 1, 1, 0, 0, 0, 1, 1, 0, 1, 0, 1, 0, 0, 0, 1, 1, 1, 0, 1, 0, 1, 0, 1, 1, 1, 1, 1, 0, 1, 1, 0, 1, 1, 0, 0, 1, 0, 1, 1, 0, 0, 0, 1, 0, 1, 0, 1, 1, 0, 1, 0, 1, 1, 1, 1, 0, 1, 0, 1, 0, 0, 1, 1, 0, 1, 1, 1, 0, 1, 1, 0, 0, 0, 0, 0, 1, 1, 0, 0, 1, 1, 0, 1, 1, 1, 0, 0, 1, 0, 1]\n"
          ]
        }
      ]
    },
    {
      "cell_type": "code",
      "source": [
        "ANN_score=accuracy_score(y_test,New_ann_pred)\n",
        "ANN_score*100"
      ],
      "metadata": {
        "colab": {
          "base_uri": "https://localhost:8080/"
        },
        "id": "1kzR6pMGu16a",
        "outputId": "9b154590-3a6f-4305-aaaa-439cb5825470"
      },
      "execution_count": 55,
      "outputs": [
        {
          "output_type": "execute_result",
          "data": {
            "text/plain": [
              "97.2027972027972"
            ]
          },
          "metadata": {},
          "execution_count": 55
        }
      ]
    },
    {
      "cell_type": "code",
      "source": [
        "pd.DataFrame(np.c_[y_test,New_ann_pred],columns=[\"Actual_Values\",\"Predicted_Values\"])"
      ],
      "metadata": {
        "colab": {
          "base_uri": "https://localhost:8080/",
          "height": 419
        },
        "id": "6U22NRaFu187",
        "outputId": "1b147453-8e75-4643-8151-aa44732e41e1"
      },
      "execution_count": 56,
      "outputs": [
        {
          "output_type": "execute_result",
          "data": {
            "text/plain": [
              "     Actual_Values  Predicted_Values\n",
              "0                0                 0\n",
              "1                1                 1\n",
              "2                1                 1\n",
              "3                0                 0\n",
              "4                0                 0\n",
              "..             ...               ...\n",
              "138              0                 0\n",
              "139              0                 0\n",
              "140              1                 1\n",
              "141              0                 0\n",
              "142              1                 1\n",
              "\n",
              "[143 rows x 2 columns]"
            ],
            "text/html": [
              "\n",
              "  <div id=\"df-3b10266c-bd46-4c02-852c-1653328d4f9d\">\n",
              "    <div class=\"colab-df-container\">\n",
              "      <div>\n",
              "<style scoped>\n",
              "    .dataframe tbody tr th:only-of-type {\n",
              "        vertical-align: middle;\n",
              "    }\n",
              "\n",
              "    .dataframe tbody tr th {\n",
              "        vertical-align: top;\n",
              "    }\n",
              "\n",
              "    .dataframe thead th {\n",
              "        text-align: right;\n",
              "    }\n",
              "</style>\n",
              "<table border=\"1\" class=\"dataframe\">\n",
              "  <thead>\n",
              "    <tr style=\"text-align: right;\">\n",
              "      <th></th>\n",
              "      <th>Actual_Values</th>\n",
              "      <th>Predicted_Values</th>\n",
              "    </tr>\n",
              "  </thead>\n",
              "  <tbody>\n",
              "    <tr>\n",
              "      <th>0</th>\n",
              "      <td>0</td>\n",
              "      <td>0</td>\n",
              "    </tr>\n",
              "    <tr>\n",
              "      <th>1</th>\n",
              "      <td>1</td>\n",
              "      <td>1</td>\n",
              "    </tr>\n",
              "    <tr>\n",
              "      <th>2</th>\n",
              "      <td>1</td>\n",
              "      <td>1</td>\n",
              "    </tr>\n",
              "    <tr>\n",
              "      <th>3</th>\n",
              "      <td>0</td>\n",
              "      <td>0</td>\n",
              "    </tr>\n",
              "    <tr>\n",
              "      <th>4</th>\n",
              "      <td>0</td>\n",
              "      <td>0</td>\n",
              "    </tr>\n",
              "    <tr>\n",
              "      <th>...</th>\n",
              "      <td>...</td>\n",
              "      <td>...</td>\n",
              "    </tr>\n",
              "    <tr>\n",
              "      <th>138</th>\n",
              "      <td>0</td>\n",
              "      <td>0</td>\n",
              "    </tr>\n",
              "    <tr>\n",
              "      <th>139</th>\n",
              "      <td>0</td>\n",
              "      <td>0</td>\n",
              "    </tr>\n",
              "    <tr>\n",
              "      <th>140</th>\n",
              "      <td>1</td>\n",
              "      <td>1</td>\n",
              "    </tr>\n",
              "    <tr>\n",
              "      <th>141</th>\n",
              "      <td>0</td>\n",
              "      <td>0</td>\n",
              "    </tr>\n",
              "    <tr>\n",
              "      <th>142</th>\n",
              "      <td>1</td>\n",
              "      <td>1</td>\n",
              "    </tr>\n",
              "  </tbody>\n",
              "</table>\n",
              "<p>143 rows × 2 columns</p>\n",
              "</div>\n",
              "      <button class=\"colab-df-convert\" onclick=\"convertToInteractive('df-3b10266c-bd46-4c02-852c-1653328d4f9d')\"\n",
              "              title=\"Convert this dataframe to an interactive table.\"\n",
              "              style=\"display:none;\">\n",
              "        \n",
              "  <svg xmlns=\"http://www.w3.org/2000/svg\" height=\"24px\"viewBox=\"0 0 24 24\"\n",
              "       width=\"24px\">\n",
              "    <path d=\"M0 0h24v24H0V0z\" fill=\"none\"/>\n",
              "    <path d=\"M18.56 5.44l.94 2.06.94-2.06 2.06-.94-2.06-.94-.94-2.06-.94 2.06-2.06.94zm-11 1L8.5 8.5l.94-2.06 2.06-.94-2.06-.94L8.5 2.5l-.94 2.06-2.06.94zm10 10l.94 2.06.94-2.06 2.06-.94-2.06-.94-.94-2.06-.94 2.06-2.06.94z\"/><path d=\"M17.41 7.96l-1.37-1.37c-.4-.4-.92-.59-1.43-.59-.52 0-1.04.2-1.43.59L10.3 9.45l-7.72 7.72c-.78.78-.78 2.05 0 2.83L4 21.41c.39.39.9.59 1.41.59.51 0 1.02-.2 1.41-.59l7.78-7.78 2.81-2.81c.8-.78.8-2.07 0-2.86zM5.41 20L4 18.59l7.72-7.72 1.47 1.35L5.41 20z\"/>\n",
              "  </svg>\n",
              "      </button>\n",
              "      \n",
              "  <style>\n",
              "    .colab-df-container {\n",
              "      display:flex;\n",
              "      flex-wrap:wrap;\n",
              "      gap: 12px;\n",
              "    }\n",
              "\n",
              "    .colab-df-convert {\n",
              "      background-color: #E8F0FE;\n",
              "      border: none;\n",
              "      border-radius: 50%;\n",
              "      cursor: pointer;\n",
              "      display: none;\n",
              "      fill: #1967D2;\n",
              "      height: 32px;\n",
              "      padding: 0 0 0 0;\n",
              "      width: 32px;\n",
              "    }\n",
              "\n",
              "    .colab-df-convert:hover {\n",
              "      background-color: #E2EBFA;\n",
              "      box-shadow: 0px 1px 2px rgba(60, 64, 67, 0.3), 0px 1px 3px 1px rgba(60, 64, 67, 0.15);\n",
              "      fill: #174EA6;\n",
              "    }\n",
              "\n",
              "    [theme=dark] .colab-df-convert {\n",
              "      background-color: #3B4455;\n",
              "      fill: #D2E3FC;\n",
              "    }\n",
              "\n",
              "    [theme=dark] .colab-df-convert:hover {\n",
              "      background-color: #434B5C;\n",
              "      box-shadow: 0px 1px 3px 1px rgba(0, 0, 0, 0.15);\n",
              "      filter: drop-shadow(0px 1px 2px rgba(0, 0, 0, 0.3));\n",
              "      fill: #FFFFFF;\n",
              "    }\n",
              "  </style>\n",
              "\n",
              "      <script>\n",
              "        const buttonEl =\n",
              "          document.querySelector('#df-3b10266c-bd46-4c02-852c-1653328d4f9d button.colab-df-convert');\n",
              "        buttonEl.style.display =\n",
              "          google.colab.kernel.accessAllowed ? 'block' : 'none';\n",
              "\n",
              "        async function convertToInteractive(key) {\n",
              "          const element = document.querySelector('#df-3b10266c-bd46-4c02-852c-1653328d4f9d');\n",
              "          const dataTable =\n",
              "            await google.colab.kernel.invokeFunction('convertToInteractive',\n",
              "                                                     [key], {});\n",
              "          if (!dataTable) return;\n",
              "\n",
              "          const docLinkHtml = 'Like what you see? Visit the ' +\n",
              "            '<a target=\"_blank\" href=https://colab.research.google.com/notebooks/data_table.ipynb>data table notebook</a>'\n",
              "            + ' to learn more about interactive tables.';\n",
              "          element.innerHTML = '';\n",
              "          dataTable['output_type'] = 'display_data';\n",
              "          await google.colab.output.renderOutput(dataTable, element);\n",
              "          const docLink = document.createElement('div');\n",
              "          docLink.innerHTML = docLinkHtml;\n",
              "          element.appendChild(docLink);\n",
              "        }\n",
              "      </script>\n",
              "    </div>\n",
              "  </div>\n",
              "  "
            ]
          },
          "metadata": {},
          "execution_count": 56
        }
      ]
    },
    {
      "cell_type": "code",
      "source": [
        "pd.DataFrame(np.c_[y_test,New_ann_pred],columns=[\"Actual_Values\",\"Predicted_Values\"])"
      ],
      "metadata": {
        "colab": {
          "base_uri": "https://localhost:8080/",
          "height": 419
        },
        "id": "QMpHx6NCu1_5",
        "outputId": "077c6aca-432c-42e0-85a3-7d04bc536963"
      },
      "execution_count": 57,
      "outputs": [
        {
          "output_type": "execute_result",
          "data": {
            "text/plain": [
              "     Actual_Values  Predicted_Values\n",
              "0                0                 0\n",
              "1                1                 1\n",
              "2                1                 1\n",
              "3                0                 0\n",
              "4                0                 0\n",
              "..             ...               ...\n",
              "138              0                 0\n",
              "139              0                 0\n",
              "140              1                 1\n",
              "141              0                 0\n",
              "142              1                 1\n",
              "\n",
              "[143 rows x 2 columns]"
            ],
            "text/html": [
              "\n",
              "  <div id=\"df-de5ed268-6e18-4433-bb5f-b23dbf0f822a\">\n",
              "    <div class=\"colab-df-container\">\n",
              "      <div>\n",
              "<style scoped>\n",
              "    .dataframe tbody tr th:only-of-type {\n",
              "        vertical-align: middle;\n",
              "    }\n",
              "\n",
              "    .dataframe tbody tr th {\n",
              "        vertical-align: top;\n",
              "    }\n",
              "\n",
              "    .dataframe thead th {\n",
              "        text-align: right;\n",
              "    }\n",
              "</style>\n",
              "<table border=\"1\" class=\"dataframe\">\n",
              "  <thead>\n",
              "    <tr style=\"text-align: right;\">\n",
              "      <th></th>\n",
              "      <th>Actual_Values</th>\n",
              "      <th>Predicted_Values</th>\n",
              "    </tr>\n",
              "  </thead>\n",
              "  <tbody>\n",
              "    <tr>\n",
              "      <th>0</th>\n",
              "      <td>0</td>\n",
              "      <td>0</td>\n",
              "    </tr>\n",
              "    <tr>\n",
              "      <th>1</th>\n",
              "      <td>1</td>\n",
              "      <td>1</td>\n",
              "    </tr>\n",
              "    <tr>\n",
              "      <th>2</th>\n",
              "      <td>1</td>\n",
              "      <td>1</td>\n",
              "    </tr>\n",
              "    <tr>\n",
              "      <th>3</th>\n",
              "      <td>0</td>\n",
              "      <td>0</td>\n",
              "    </tr>\n",
              "    <tr>\n",
              "      <th>4</th>\n",
              "      <td>0</td>\n",
              "      <td>0</td>\n",
              "    </tr>\n",
              "    <tr>\n",
              "      <th>...</th>\n",
              "      <td>...</td>\n",
              "      <td>...</td>\n",
              "    </tr>\n",
              "    <tr>\n",
              "      <th>138</th>\n",
              "      <td>0</td>\n",
              "      <td>0</td>\n",
              "    </tr>\n",
              "    <tr>\n",
              "      <th>139</th>\n",
              "      <td>0</td>\n",
              "      <td>0</td>\n",
              "    </tr>\n",
              "    <tr>\n",
              "      <th>140</th>\n",
              "      <td>1</td>\n",
              "      <td>1</td>\n",
              "    </tr>\n",
              "    <tr>\n",
              "      <th>141</th>\n",
              "      <td>0</td>\n",
              "      <td>0</td>\n",
              "    </tr>\n",
              "    <tr>\n",
              "      <th>142</th>\n",
              "      <td>1</td>\n",
              "      <td>1</td>\n",
              "    </tr>\n",
              "  </tbody>\n",
              "</table>\n",
              "<p>143 rows × 2 columns</p>\n",
              "</div>\n",
              "      <button class=\"colab-df-convert\" onclick=\"convertToInteractive('df-de5ed268-6e18-4433-bb5f-b23dbf0f822a')\"\n",
              "              title=\"Convert this dataframe to an interactive table.\"\n",
              "              style=\"display:none;\">\n",
              "        \n",
              "  <svg xmlns=\"http://www.w3.org/2000/svg\" height=\"24px\"viewBox=\"0 0 24 24\"\n",
              "       width=\"24px\">\n",
              "    <path d=\"M0 0h24v24H0V0z\" fill=\"none\"/>\n",
              "    <path d=\"M18.56 5.44l.94 2.06.94-2.06 2.06-.94-2.06-.94-.94-2.06-.94 2.06-2.06.94zm-11 1L8.5 8.5l.94-2.06 2.06-.94-2.06-.94L8.5 2.5l-.94 2.06-2.06.94zm10 10l.94 2.06.94-2.06 2.06-.94-2.06-.94-.94-2.06-.94 2.06-2.06.94z\"/><path d=\"M17.41 7.96l-1.37-1.37c-.4-.4-.92-.59-1.43-.59-.52 0-1.04.2-1.43.59L10.3 9.45l-7.72 7.72c-.78.78-.78 2.05 0 2.83L4 21.41c.39.39.9.59 1.41.59.51 0 1.02-.2 1.41-.59l7.78-7.78 2.81-2.81c.8-.78.8-2.07 0-2.86zM5.41 20L4 18.59l7.72-7.72 1.47 1.35L5.41 20z\"/>\n",
              "  </svg>\n",
              "      </button>\n",
              "      \n",
              "  <style>\n",
              "    .colab-df-container {\n",
              "      display:flex;\n",
              "      flex-wrap:wrap;\n",
              "      gap: 12px;\n",
              "    }\n",
              "\n",
              "    .colab-df-convert {\n",
              "      background-color: #E8F0FE;\n",
              "      border: none;\n",
              "      border-radius: 50%;\n",
              "      cursor: pointer;\n",
              "      display: none;\n",
              "      fill: #1967D2;\n",
              "      height: 32px;\n",
              "      padding: 0 0 0 0;\n",
              "      width: 32px;\n",
              "    }\n",
              "\n",
              "    .colab-df-convert:hover {\n",
              "      background-color: #E2EBFA;\n",
              "      box-shadow: 0px 1px 2px rgba(60, 64, 67, 0.3), 0px 1px 3px 1px rgba(60, 64, 67, 0.15);\n",
              "      fill: #174EA6;\n",
              "    }\n",
              "\n",
              "    [theme=dark] .colab-df-convert {\n",
              "      background-color: #3B4455;\n",
              "      fill: #D2E3FC;\n",
              "    }\n",
              "\n",
              "    [theme=dark] .colab-df-convert:hover {\n",
              "      background-color: #434B5C;\n",
              "      box-shadow: 0px 1px 3px 1px rgba(0, 0, 0, 0.15);\n",
              "      filter: drop-shadow(0px 1px 2px rgba(0, 0, 0, 0.3));\n",
              "      fill: #FFFFFF;\n",
              "    }\n",
              "  </style>\n",
              "\n",
              "      <script>\n",
              "        const buttonEl =\n",
              "          document.querySelector('#df-de5ed268-6e18-4433-bb5f-b23dbf0f822a button.colab-df-convert');\n",
              "        buttonEl.style.display =\n",
              "          google.colab.kernel.accessAllowed ? 'block' : 'none';\n",
              "\n",
              "        async function convertToInteractive(key) {\n",
              "          const element = document.querySelector('#df-de5ed268-6e18-4433-bb5f-b23dbf0f822a');\n",
              "          const dataTable =\n",
              "            await google.colab.kernel.invokeFunction('convertToInteractive',\n",
              "                                                     [key], {});\n",
              "          if (!dataTable) return;\n",
              "\n",
              "          const docLinkHtml = 'Like what you see? Visit the ' +\n",
              "            '<a target=\"_blank\" href=https://colab.research.google.com/notebooks/data_table.ipynb>data table notebook</a>'\n",
              "            + ' to learn more about interactive tables.';\n",
              "          element.innerHTML = '';\n",
              "          dataTable['output_type'] = 'display_data';\n",
              "          await google.colab.output.renderOutput(dataTable, element);\n",
              "          const docLink = document.createElement('div');\n",
              "          docLink.innerHTML = docLinkHtml;\n",
              "          element.appendChild(docLink);\n",
              "        }\n",
              "      </script>\n",
              "    </div>\n",
              "  </div>\n",
              "  "
            ]
          },
          "metadata": {},
          "execution_count": 57
        }
      ]
    }
  ]
}